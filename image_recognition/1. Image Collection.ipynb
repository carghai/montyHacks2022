{
 "cells": [
  {
   "cell_type": "markdown",
   "metadata": {},
   "source": [
    "# 1. Import Dependencies"
   ]
  },
  {
   "cell_type": "code",
   "execution_count": 1,
   "metadata": {},
   "outputs": [
    {
     "name": "stdout",
     "output_type": "stream",
     "text": [
      "Requirement already satisfied: opencv-python in c:\\users\\eddie\\python machine learning\\tensorflow object detection\\tfodcourse\\tfod\\lib\\site-packages (4.6.0.66)\n",
      "Requirement already satisfied: numpy>=1.19.3 in c:\\users\\eddie\\python machine learning\\tensorflow object detection\\tfodcourse\\tfod\\lib\\site-packages (from opencv-python) (1.22.4)\n"
     ]
    }
   ],
   "source": [
    "!pip install opencv-python"
   ]
  },
  {
   "cell_type": "code",
   "execution_count": 2,
   "metadata": {},
   "outputs": [],
   "source": [
    "# Import opencv\n",
    "import cv2 \n",
    "\n",
    "# Import uuid\n",
    "import uuid\n",
    "\n",
    "# Import Operating System\n",
    "import os\n",
    "\n",
    "# Import time\n",
    "import time"
   ]
  },
  {
   "cell_type": "markdown",
   "metadata": {},
   "source": [
    "# 2. Define Images to Collect"
   ]
  },
  {
   "cell_type": "code",
   "execution_count": 3,
   "metadata": {},
   "outputs": [],
   "source": [
    "labels = ['thumbsup', 'thumbsdown', 'thankyou', 'livelong']\n",
    "number_imgs = 5"
   ]
  },
  {
   "cell_type": "markdown",
   "metadata": {},
   "source": [
    "# 3. Setup Folders "
   ]
  },
  {
   "cell_type": "code",
   "execution_count": 4,
   "metadata": {},
   "outputs": [],
   "source": [
    "IMAGES_PATH = os.path.join('Tensorflow', 'workspace', 'images', 'collectedimages')"
   ]
  },
  {
   "cell_type": "code",
   "execution_count": null,
   "metadata": {},
   "outputs": [],
   "source": [
    "if not os.path.exists(IMAGES_PATH):\n",
    "    if os.name == 'posix':\n",
    "        !mkdir -p {IMAGES_PATH}\n",
    "    if os.name == 'nt':\n",
    "         !mkdir {IMAGES_PATH}\n",
    "for label in labels:\n",
    "    path = os.path.join(IMAGES_PATH, label)\n",
    "    if not os.path.exists(path):\n",
    "        !mkdir {path}"
   ]
  },
  {
   "cell_type": "markdown",
   "metadata": {},
   "source": [
    "# 4. Capture Images"
   ]
  },
  {
   "cell_type": "code",
   "execution_count": 5,
   "metadata": {},
   "outputs": [
    {
     "name": "stdout",
     "output_type": "stream",
     "text": [
      "Collecting images for thumbsup\n",
      "Collecting image 0\n",
      "Collecting image 1\n",
      "Collecting image 2\n",
      "Collecting image 3\n",
      "Collecting image 4\n",
      "Collecting images for thumbsdown\n",
      "Collecting image 0\n",
      "Collecting image 1\n",
      "Collecting image 2\n",
      "Collecting image 3\n",
      "Collecting image 4\n",
      "Collecting images for thankyou\n",
      "Collecting image 0\n",
      "Collecting image 1\n",
      "Collecting image 2\n",
      "Collecting image 3\n",
      "Collecting image 4\n",
      "Collecting images for livelong\n",
      "Collecting image 0\n",
      "Collecting image 1\n",
      "Collecting image 2\n",
      "Collecting image 3\n",
      "Collecting image 4\n"
     ]
    }
   ],
   "source": [
    "cap = cv2.VideoCapture(0)\n",
    "for label in labels:\n",
    "    \n",
    "    print('Collecting images for {}'.format(label))\n",
    "    time.sleep(5)\n",
    "    for imgnum in range(number_imgs):\n",
    "        print('Collecting image {}'.format(imgnum))\n",
    "        ret, frame = cap.read()\n",
    "        imgname = os.path.join(IMAGES_PATH,label,label+'.'+'{}.jpg'.format(str(uuid.uuid1())))\n",
    "        cv2.imwrite(imgname, frame)\n",
    "        cv2.imshow('frame', frame)\n",
    "        time.sleep(2)\n",
    "\n",
    "        if cv2.waitKey(1) & 0xFF == ord('q'):\n",
    "            break\n",
    "cap.release()\n",
    "cv2.destroyAllWindows()"
   ]
  },
  {
   "cell_type": "markdown",
   "metadata": {},
   "source": [
    "# 5. Image Labelling"
   ]
  },
  {
   "cell_type": "code",
   "execution_count": 6,
   "metadata": {},
   "outputs": [
    {
     "name": "stdout",
     "output_type": "stream",
     "text": [
      "Collecting pyqt5\n",
      "  Downloading PyQt5-5.15.6-cp36-abi3-win_amd64.whl (6.7 MB)\n",
      "     ---------------------------------------- 6.7/6.7 MB 4.5 MB/s eta 0:00:00\n",
      "Collecting lxml\n",
      "  Downloading lxml-4.9.0-cp39-cp39-win_amd64.whl (3.6 MB)\n",
      "     ---------------------------------------- 3.6/3.6 MB 3.7 MB/s eta 0:00:00\n",
      "Collecting PyQt5-sip<13,>=12.8\n",
      "  Downloading PyQt5_sip-12.10.1-cp39-cp39-win_amd64.whl (77 kB)\n",
      "     ---------------------------------------- 77.8/77.8 kB 1.1 MB/s eta 0:00:00\n",
      "Collecting PyQt5-Qt5>=5.15.2\n",
      "  Downloading PyQt5_Qt5-5.15.2-py3-none-win_amd64.whl (50.1 MB)\n",
      "     ---------------------------------------- 50.1/50.1 MB 2.6 MB/s eta 0:00:00\n",
      "Installing collected packages: PyQt5-Qt5, PyQt5-sip, lxml, pyqt5\n",
      "Successfully installed PyQt5-Qt5-5.15.2 PyQt5-sip-12.10.1 lxml-4.9.0 pyqt5-5.15.6\n"
     ]
    }
   ],
   "source": [
    "!pip install --upgrade pyqt5 lxml"
   ]
  },
  {
   "cell_type": "code",
   "execution_count": 2,
   "metadata": {},
   "outputs": [],
   "source": [
    "import os\n",
    "LABELIMG_PATH = os.path.join('Tensorflow', 'labelimg')"
   ]
  },
  {
   "cell_type": "code",
   "execution_count": 3,
   "metadata": {},
   "outputs": [],
   "source": [
    "if not os.path.exists(LABELIMG_PATH):\n",
    "    !mkdir {LABELIMG_PATH}\n",
    "    !git clone https://github.com/tzutalin/labelImg {LABELIMG_PATH}"
   ]
  },
  {
   "cell_type": "code",
   "execution_count": 4,
   "metadata": {},
   "outputs": [],
   "source": [
    "if os.name == 'posix':\n",
    "    !cd {LABELIMG_PATH} && make qt5py3\n",
    "if os.name =='nt':\n",
    "    !cd {LABELIMG_PATH} && pyrcc5 -o libs/resources.py resources.qrc"
   ]
  },
  {
   "cell_type": "code",
   "execution_count": 4,
   "metadata": {},
   "outputs": [
    {
     "name": "stdout",
     "output_type": "stream",
     "text": [
      "Image:C:\\Users\\Eddie\\Python Machine Learning\\Tensorflow Object Detection\\TFODCourse\\Tensorflow\\workspace\\cans_and_bottles\\Can\\0218084110.jpg -> Annotation:C:/Users/Eddie/Python Machine Learning/Tensorflow Object Detection/TFODCourse/Tensorflow/workspace/cans_and_bottles/Can\\0218084110.xml\n",
      "Image:C:\\Users\\Eddie\\Python Machine Learning\\Tensorflow Object Detection\\TFODCourse\\Tensorflow\\workspace\\cans_and_bottles\\Can\\0218084154.jpg -> Annotation:C:/Users/Eddie/Python Machine Learning/Tensorflow Object Detection/TFODCourse/Tensorflow/workspace/cans_and_bottles/Can\\0218084154.xml\n",
      "Image:C:\\Users\\Eddie\\Python Machine Learning\\Tensorflow Object Detection\\TFODCourse\\Tensorflow\\workspace\\cans_and_bottles\\Can\\0218084345.jpg -> Annotation:C:/Users/Eddie/Python Machine Learning/Tensorflow Object Detection/TFODCourse/Tensorflow/workspace/cans_and_bottles/Can\\0218084345.xml\n",
      "Image:C:\\Users\\Eddie\\Python Machine Learning\\Tensorflow Object Detection\\TFODCourse\\Tensorflow\\workspace\\cans_and_bottles\\Can\\0218084400.jpg -> Annotation:C:/Users/Eddie/Python Machine Learning/Tensorflow Object Detection/TFODCourse/Tensorflow/workspace/cans_and_bottles/Can\\0218084400.xml\n",
      "Image:C:\\Users\\Eddie\\Python Machine Learning\\Tensorflow Object Detection\\TFODCourse\\Tensorflow\\workspace\\cans_and_bottles\\Can\\0218084414.jpg -> Annotation:C:/Users/Eddie/Python Machine Learning/Tensorflow Object Detection/TFODCourse/Tensorflow/workspace/cans_and_bottles/Can\\0218084414.xml\n",
      "Image:C:\\Users\\Eddie\\Python Machine Learning\\Tensorflow Object Detection\\TFODCourse\\Tensorflow\\workspace\\cans_and_bottles\\Can\\0218084431.jpg -> Annotation:C:/Users/Eddie/Python Machine Learning/Tensorflow Object Detection/TFODCourse/Tensorflow/workspace/cans_and_bottles/Can\\0218084431.xml\n",
      "Image:C:\\Users\\Eddie\\Python Machine Learning\\Tensorflow Object Detection\\TFODCourse\\Tensorflow\\workspace\\cans_and_bottles\\Can\\0218084523.jpg -> Annotation:C:/Users/Eddie/Python Machine Learning/Tensorflow Object Detection/TFODCourse/Tensorflow/workspace/cans_and_bottles/Can\\0218084523.xml\n",
      "Image:C:\\Users\\Eddie\\Python Machine Learning\\Tensorflow Object Detection\\TFODCourse\\Tensorflow\\workspace\\cans_and_bottles\\Can\\0218084544.jpg -> Annotation:C:/Users/Eddie/Python Machine Learning/Tensorflow Object Detection/TFODCourse/Tensorflow/workspace/cans_and_bottles/Can\\0218084544.xml\n",
      "Image:C:\\Users\\Eddie\\Python Machine Learning\\Tensorflow Object Detection\\TFODCourse\\Tensorflow\\workspace\\cans_and_bottles\\Can\\0218084616.jpg -> Annotation:C:/Users/Eddie/Python Machine Learning/Tensorflow Object Detection/TFODCourse/Tensorflow/workspace/cans_and_bottles/Can\\0218084616.xml\n",
      "Image:C:\\Users\\Eddie\\Python Machine Learning\\Tensorflow Object Detection\\TFODCourse\\Tensorflow\\workspace\\cans_and_bottles\\Can\\0218085316.jpg -> Annotation:C:/Users/Eddie/Python Machine Learning/Tensorflow Object Detection/TFODCourse/Tensorflow/workspace/cans_and_bottles/Can\\0218085316.xml\n",
      "Image:C:\\Users\\Eddie\\Python Machine Learning\\Tensorflow Object Detection\\TFODCourse\\Tensorflow\\workspace\\cans_and_bottles\\Can\\0218085359.jpg -> Annotation:C:/Users/Eddie/Python Machine Learning/Tensorflow Object Detection/TFODCourse/Tensorflow/workspace/cans_and_bottles/Can\\0218085359.xml\n",
      "Image:C:\\Users\\Eddie\\Python Machine Learning\\Tensorflow Object Detection\\TFODCourse\\Tensorflow\\workspace\\cans_and_bottles\\Can\\0218085421.jpg -> Annotation:C:/Users/Eddie/Python Machine Learning/Tensorflow Object Detection/TFODCourse/Tensorflow/workspace/cans_and_bottles/Can\\0218085421.xml\n",
      "Image:C:\\Users\\Eddie\\Python Machine Learning\\Tensorflow Object Detection\\TFODCourse\\Tensorflow\\workspace\\cans_and_bottles\\Can\\0218090645.jpg -> Annotation:C:/Users/Eddie/Python Machine Learning/Tensorflow Object Detection/TFODCourse/Tensorflow/workspace/cans_and_bottles/Can\\0218090645.xml\n",
      "Image:C:\\Users\\Eddie\\Python Machine Learning\\Tensorflow Object Detection\\TFODCourse\\Tensorflow\\workspace\\cans_and_bottles\\Can\\0218090703.jpg -> Annotation:C:/Users/Eddie/Python Machine Learning/Tensorflow Object Detection/TFODCourse/Tensorflow/workspace/cans_and_bottles/Can\\0218090703.xml\n",
      "Image:C:\\Users\\Eddie\\Python Machine Learning\\Tensorflow Object Detection\\TFODCourse\\Tensorflow\\workspace\\cans_and_bottles\\Can\\0218101444.jpg -> Annotation:C:/Users/Eddie/Python Machine Learning/Tensorflow Object Detection/TFODCourse/Tensorflow/workspace/cans_and_bottles/Can\\0218101444.xml\n",
      "Image:C:\\Users\\Eddie\\Python Machine Learning\\Tensorflow Object Detection\\TFODCourse\\Tensorflow\\workspace\\cans_and_bottles\\Can\\0218101454.jpg -> Annotation:C:/Users/Eddie/Python Machine Learning/Tensorflow Object Detection/TFODCourse/Tensorflow/workspace/cans_and_bottles/Can\\0218101454.xml\n",
      "Image:C:\\Users\\Eddie\\Python Machine Learning\\Tensorflow Object Detection\\TFODCourse\\Tensorflow\\workspace\\cans_and_bottles\\Can\\0218101502.jpg -> Annotation:C:/Users/Eddie/Python Machine Learning/Tensorflow Object Detection/TFODCourse/Tensorflow/workspace/cans_and_bottles/Can\\0218101502.xml\n",
      "Image:C:\\Users\\Eddie\\Python Machine Learning\\Tensorflow Object Detection\\TFODCourse\\Tensorflow\\workspace\\cans_and_bottles\\Can\\0218101513.jpg -> Annotation:C:/Users/Eddie/Python Machine Learning/Tensorflow Object Detection/TFODCourse/Tensorflow/workspace/cans_and_bottles/Can\\0218101513.xml\n",
      "Image:C:\\Users\\Eddie\\Python Machine Learning\\Tensorflow Object Detection\\TFODCourse\\Tensorflow\\workspace\\cans_and_bottles\\Can\\0218101530.jpg -> Annotation:C:/Users/Eddie/Python Machine Learning/Tensorflow Object Detection/TFODCourse/Tensorflow/workspace/cans_and_bottles/Can\\0218101530.xml\n",
      "Image:C:\\Users\\Eddie\\Python Machine Learning\\Tensorflow Object Detection\\TFODCourse\\Tensorflow\\workspace\\cans_and_bottles\\Can\\0218101540.jpg -> Annotation:C:/Users/Eddie/Python Machine Learning/Tensorflow Object Detection/TFODCourse/Tensorflow/workspace/cans_and_bottles/Can\\0218101540.xml\n",
      "Image:C:\\Users\\Eddie\\Python Machine Learning\\Tensorflow Object Detection\\TFODCourse\\Tensorflow\\workspace\\cans_and_bottles\\Can\\0218101552.jpg -> Annotation:C:/Users/Eddie/Python Machine Learning/Tensorflow Object Detection/TFODCourse/Tensorflow/workspace/cans_and_bottles/Can\\0218101552.xml\n",
      "Image:C:\\Users\\Eddie\\Python Machine Learning\\Tensorflow Object Detection\\TFODCourse\\Tensorflow\\workspace\\cans_and_bottles\\Can\\0218101609.jpg -> Annotation:C:/Users/Eddie/Python Machine Learning/Tensorflow Object Detection/TFODCourse/Tensorflow/workspace/cans_and_bottles/Can\\0218101609.xml\n",
      "Image:C:\\Users\\Eddie\\Python Machine Learning\\Tensorflow Object Detection\\TFODCourse\\Tensorflow\\workspace\\cans_and_bottles\\Can\\0218101753.jpg -> Annotation:C:/Users/Eddie/Python Machine Learning/Tensorflow Object Detection/TFODCourse/Tensorflow/workspace/cans_and_bottles/Can\\0218101753.xml\n",
      "Image:C:\\Users\\Eddie\\Python Machine Learning\\Tensorflow Object Detection\\TFODCourse\\Tensorflow\\workspace\\cans_and_bottles\\Can\\0218101808.jpg -> Annotation:C:/Users/Eddie/Python Machine Learning/Tensorflow Object Detection/TFODCourse/Tensorflow/workspace/cans_and_bottles/Can\\0218101808.xml\n",
      "Image:C:\\Users\\Eddie\\Python Machine Learning\\Tensorflow Object Detection\\TFODCourse\\Tensorflow\\workspace\\cans_and_bottles\\Can\\0218101836.jpg -> Annotation:C:/Users/Eddie/Python Machine Learning/Tensorflow Object Detection/TFODCourse/Tensorflow/workspace/cans_and_bottles/Can\\0218101836.xml\n",
      "Image:C:\\Users\\Eddie\\Python Machine Learning\\Tensorflow Object Detection\\TFODCourse\\Tensorflow\\workspace\\cans_and_bottles\\Can\\0218101850.jpg -> Annotation:C:/Users/Eddie/Python Machine Learning/Tensorflow Object Detection/TFODCourse/Tensorflow/workspace/cans_and_bottles/Can\\0218101850.xml\n",
      "Image:C:\\Users\\Eddie\\Python Machine Learning\\Tensorflow Object Detection\\TFODCourse\\Tensorflow\\workspace\\cans_and_bottles\\Can\\0218101919.jpg -> Annotation:C:/Users/Eddie/Python Machine Learning/Tensorflow Object Detection/TFODCourse/Tensorflow/workspace/cans_and_bottles/Can\\0218101919.xml\n",
      "Image:C:\\Users\\Eddie\\Python Machine Learning\\Tensorflow Object Detection\\TFODCourse\\Tensorflow\\workspace\\cans_and_bottles\\Can\\0218101930.jpg -> Annotation:C:/Users/Eddie/Python Machine Learning/Tensorflow Object Detection/TFODCourse/Tensorflow/workspace/cans_and_bottles/Can\\0218101930.xml\n",
      "Image:C:\\Users\\Eddie\\Python Machine Learning\\Tensorflow Object Detection\\TFODCourse\\Tensorflow\\workspace\\cans_and_bottles\\Can\\0218101942.jpg -> Annotation:C:/Users/Eddie/Python Machine Learning/Tensorflow Object Detection/TFODCourse/Tensorflow/workspace/cans_and_bottles/Can\\0218101942.xml\n",
      "Image:C:\\Users\\Eddie\\Python Machine Learning\\Tensorflow Object Detection\\TFODCourse\\Tensorflow\\workspace\\cans_and_bottles\\Can\\0218101952.jpg -> Annotation:C:/Users/Eddie/Python Machine Learning/Tensorflow Object Detection/TFODCourse/Tensorflow/workspace/cans_and_bottles/Can\\0218101952.xml\n",
      "Image:C:\\Users\\Eddie\\Python Machine Learning\\Tensorflow Object Detection\\TFODCourse\\Tensorflow\\workspace\\cans_and_bottles\\Can\\0218102005.jpg -> Annotation:C:/Users/Eddie/Python Machine Learning/Tensorflow Object Detection/TFODCourse/Tensorflow/workspace/cans_and_bottles/Can\\0218102005.xml\n",
      "Image:C:\\Users\\Eddie\\Python Machine Learning\\Tensorflow Object Detection\\TFODCourse\\Tensorflow\\workspace\\cans_and_bottles\\Can\\image2020-02-18 01_19_54.257418.jpg -> Annotation:C:/Users/Eddie/Python Machine Learning/Tensorflow Object Detection/TFODCourse/Tensorflow/workspace/cans_and_bottles/Can\\image2020-02-18 01_19_54.257418.xml\n",
      "Image:C:\\Users\\Eddie\\Python Machine Learning\\Tensorflow Object Detection\\TFODCourse\\Tensorflow\\workspace\\cans_and_bottles\\Can\\image2020-02-18 01_20_14.305398.jpg -> Annotation:C:/Users/Eddie/Python Machine Learning/Tensorflow Object Detection/TFODCourse/Tensorflow/workspace/cans_and_bottles/Can\\image2020-02-18 01_20_14.305398.xml\n",
      "Image:C:\\Users\\Eddie\\Python Machine Learning\\Tensorflow Object Detection\\TFODCourse\\Tensorflow\\workspace\\cans_and_bottles\\Can\\image2020-02-18 01_20_27.366623.jpg -> Annotation:C:/Users/Eddie/Python Machine Learning/Tensorflow Object Detection/TFODCourse/Tensorflow/workspace/cans_and_bottles/Can\\image2020-02-18 01_20_27.366623.xml\n",
      "Image:C:\\Users\\Eddie\\Python Machine Learning\\Tensorflow Object Detection\\TFODCourse\\Tensorflow\\workspace\\cans_and_bottles\\Can\\image2020-02-18 01_20_42.392555.jpg -> Annotation:C:/Users/Eddie/Python Machine Learning/Tensorflow Object Detection/TFODCourse/Tensorflow/workspace/cans_and_bottles/Can\\image2020-02-18 01_20_42.392555.xml\n",
      "Image:C:\\Users\\Eddie\\Python Machine Learning\\Tensorflow Object Detection\\TFODCourse\\Tensorflow\\workspace\\cans_and_bottles\\Can\\image2020-02-18 01_20_55.947370.jpg -> Annotation:C:/Users/Eddie/Python Machine Learning/Tensorflow Object Detection/TFODCourse/Tensorflow/workspace/cans_and_bottles/Can\\image2020-02-18 01_20_55.947370.xml\n",
      "Image:C:\\Users\\Eddie\\Python Machine Learning\\Tensorflow Object Detection\\TFODCourse\\Tensorflow\\workspace\\cans_and_bottles\\Can\\image2020-02-18 01_21_12.012690.jpg -> Annotation:C:/Users/Eddie/Python Machine Learning/Tensorflow Object Detection/TFODCourse/Tensorflow/workspace/cans_and_bottles/Can\\image2020-02-18 01_21_12.012690.xml\n",
      "Image:C:\\Users\\Eddie\\Python Machine Learning\\Tensorflow Object Detection\\TFODCourse\\Tensorflow\\workspace\\cans_and_bottles\\Can\\image2020-02-18 01_21_26.079463.jpg -> Annotation:C:/Users/Eddie/Python Machine Learning/Tensorflow Object Detection/TFODCourse/Tensorflow/workspace/cans_and_bottles/Can\\image2020-02-18 01_21_26.079463.xml\n",
      "Image:C:\\Users\\Eddie\\Python Machine Learning\\Tensorflow Object Detection\\TFODCourse\\Tensorflow\\workspace\\cans_and_bottles\\Can\\image2020-02-18 01_21_42.110928.jpg -> Annotation:C:/Users/Eddie/Python Machine Learning/Tensorflow Object Detection/TFODCourse/Tensorflow/workspace/cans_and_bottles/Can\\image2020-02-18 01_21_42.110928.xml\n",
      "Image:C:\\Users\\Eddie\\Python Machine Learning\\Tensorflow Object Detection\\TFODCourse\\Tensorflow\\workspace\\cans_and_bottles\\Can\\image2020-02-18 01_21_56.639048.jpg -> Annotation:C:/Users/Eddie/Python Machine Learning/Tensorflow Object Detection/TFODCourse/Tensorflow/workspace/cans_and_bottles/Can\\image2020-02-18 01_21_56.639048.xml\n",
      "Image:C:\\Users\\Eddie\\Python Machine Learning\\Tensorflow Object Detection\\TFODCourse\\Tensorflow\\workspace\\cans_and_bottles\\Can\\image2020-02-18 01_22_15.175842.jpg -> Annotation:C:/Users/Eddie/Python Machine Learning/Tensorflow Object Detection/TFODCourse/Tensorflow/workspace/cans_and_bottles/Can\\image2020-02-18 01_22_15.175842.xml\n",
      "Image:C:\\Users\\Eddie\\Python Machine Learning\\Tensorflow Object Detection\\TFODCourse\\Tensorflow\\workspace\\cans_and_bottles\\Can\\image2020-02-18 01_22_28.200496.jpg -> Annotation:C:/Users/Eddie/Python Machine Learning/Tensorflow Object Detection/TFODCourse/Tensorflow/workspace/cans_and_bottles/Can\\image2020-02-18 01_22_28.200496.xml\n",
      "Image:C:\\Users\\Eddie\\Python Machine Learning\\Tensorflow Object Detection\\TFODCourse\\Tensorflow\\workspace\\cans_and_bottles\\Can\\image2020-02-18 01_22_41.233035.jpg -> Annotation:C:/Users/Eddie/Python Machine Learning/Tensorflow Object Detection/TFODCourse/Tensorflow/workspace/cans_and_bottles/Can\\image2020-02-18 01_22_41.233035.xml\n",
      "Image:C:\\Users\\Eddie\\Python Machine Learning\\Tensorflow Object Detection\\TFODCourse\\Tensorflow\\workspace\\cans_and_bottles\\Can\\image2020-02-18 01_22_53.778857.jpg -> Annotation:C:/Users/Eddie/Python Machine Learning/Tensorflow Object Detection/TFODCourse/Tensorflow/workspace/cans_and_bottles/Can\\image2020-02-18 01_22_53.778857.xml\n",
      "Image:C:\\Users\\Eddie\\Python Machine Learning\\Tensorflow Object Detection\\TFODCourse\\Tensorflow\\workspace\\cans_and_bottles\\Can\\image2020-02-18 01_23_19.321190.jpg -> Annotation:C:/Users/Eddie/Python Machine Learning/Tensorflow Object Detection/TFODCourse/Tensorflow/workspace/cans_and_bottles/Can\\image2020-02-18 01_23_19.321190.xml\n",
      "Image:C:\\Users\\Eddie\\Python Machine Learning\\Tensorflow Object Detection\\TFODCourse\\Tensorflow\\workspace\\cans_and_bottles\\Can\\image2020-02-18 01_23_39.344021.jpg -> Annotation:C:/Users/Eddie/Python Machine Learning/Tensorflow Object Detection/TFODCourse/Tensorflow/workspace/cans_and_bottles/Can\\image2020-02-18 01_23_39.344021.xml\n",
      "Image:C:\\Users\\Eddie\\Python Machine Learning\\Tensorflow Object Detection\\TFODCourse\\Tensorflow\\workspace\\cans_and_bottles\\Can\\image2020-02-18 01_23_55.382670.jpg -> Annotation:C:/Users/Eddie/Python Machine Learning/Tensorflow Object Detection/TFODCourse/Tensorflow/workspace/cans_and_bottles/Can\\image2020-02-18 01_23_55.382670.xml\n",
      "Image:C:\\Users\\Eddie\\Python Machine Learning\\Tensorflow Object Detection\\TFODCourse\\Tensorflow\\workspace\\cans_and_bottles\\Can\\image2020-02-18 01_24_10.418469.jpg -> Annotation:C:/Users/Eddie/Python Machine Learning/Tensorflow Object Detection/TFODCourse/Tensorflow/workspace/cans_and_bottles/Can\\image2020-02-18 01_24_10.418469.xml\n",
      "Image:C:\\Users\\Eddie\\Python Machine Learning\\Tensorflow Object Detection\\TFODCourse\\Tensorflow\\workspace\\cans_and_bottles\\Can\\image2020-02-18 01_25_57.138588.jpg -> Annotation:C:/Users/Eddie/Python Machine Learning/Tensorflow Object Detection/TFODCourse/Tensorflow/workspace/cans_and_bottles/Can\\image2020-02-18 01_25_57.138588.xml\n",
      "Image:C:\\Users\\Eddie\\Python Machine Learning\\Tensorflow Object Detection\\TFODCourse\\Tensorflow\\workspace\\cans_and_bottles\\Can\\image2020-02-18 01_27_05.763549.jpg -> Annotation:C:/Users/Eddie/Python Machine Learning/Tensorflow Object Detection/TFODCourse/Tensorflow/workspace/cans_and_bottles/Can\\image2020-02-18 01_27_05.763549.xml\n",
      "Image:C:\\Users\\Eddie\\Python Machine Learning\\Tensorflow Object Detection\\TFODCourse\\Tensorflow\\workspace\\cans_and_bottles\\Can\\image2020-02-18 01_26_47.231229.jpg -> Annotation:C:/Users/Eddie/Python Machine Learning/Tensorflow Object Detection/TFODCourse/Tensorflow/workspace/cans_and_bottles/Can\\image2020-02-18 01_26_47.231229.xml\n",
      "Image:C:\\Users\\Eddie\\Python Machine Learning\\Tensorflow Object Detection\\TFODCourse\\Tensorflow\\workspace\\cans_and_bottles\\Can\\image2020-02-18 01_31_03.791298.jpg -> Annotation:C:/Users/Eddie/Python Machine Learning/Tensorflow Object Detection/TFODCourse/Tensorflow/workspace/cans_and_bottles/Can\\image2020-02-18 01_31_03.791298.xml\n",
      "Image:C:\\Users\\Eddie\\Python Machine Learning\\Tensorflow Object Detection\\TFODCourse\\Tensorflow\\workspace\\cans_and_bottles\\Can\\image2020-02-18 01_31_24.337659.jpg -> Annotation:C:/Users/Eddie/Python Machine Learning/Tensorflow Object Detection/TFODCourse/Tensorflow/workspace/cans_and_bottles/Can\\image2020-02-18 01_31_24.337659.xml\n",
      "Image:C:\\Users\\Eddie\\Python Machine Learning\\Tensorflow Object Detection\\TFODCourse\\Tensorflow\\workspace\\cans_and_bottles\\Can\\image2020-02-18 01_31_37.378474.jpg -> Annotation:C:/Users/Eddie/Python Machine Learning/Tensorflow Object Detection/TFODCourse/Tensorflow/workspace/cans_and_bottles/Can\\image2020-02-18 01_31_37.378474.xml\n",
      "Image:C:\\Users\\Eddie\\Python Machine Learning\\Tensorflow Object Detection\\TFODCourse\\Tensorflow\\workspace\\cans_and_bottles\\Can\\image2020-02-18 01_32_04.943793.jpg -> Annotation:C:/Users/Eddie/Python Machine Learning/Tensorflow Object Detection/TFODCourse/Tensorflow/workspace/cans_and_bottles/Can\\image2020-02-18 01_32_04.943793.xml\n",
      "Image:C:\\Users\\Eddie\\Python Machine Learning\\Tensorflow Object Detection\\TFODCourse\\Tensorflow\\workspace\\cans_and_bottles\\Can\\image2020-02-18 01_32_20.992130.jpg -> Annotation:C:/Users/Eddie/Python Machine Learning/Tensorflow Object Detection/TFODCourse/Tensorflow/workspace/cans_and_bottles/Can\\image2020-02-18 01_32_20.992130.xml\n"
     ]
    }
   ],
   "source": [
    "!cd {LABELIMG_PATH} && python labelImg.py"
   ]
  },
  {
   "cell_type": "markdown",
   "metadata": {},
   "source": [
    "# 6. Move them into a Training and Testing Partition"
   ]
  },
  {
   "cell_type": "markdown",
   "metadata": {},
   "source": [
    "# OPTIONAL - 7. Compress them for Colab Training"
   ]
  },
  {
   "cell_type": "code",
   "execution_count": 20,
   "metadata": {},
   "outputs": [],
   "source": [
    "TRAIN_PATH = os.path.join('Tensorflow', 'workspace', 'images', 'train')\n",
    "TEST_PATH = os.path.join('Tensorflow', 'workspace', 'images', 'test')\n",
    "ARCHIVE_PATH = os.path.join('Tensorflow', 'workspace', 'images', 'archive.tar.gz')"
   ]
  },
  {
   "cell_type": "code",
   "execution_count": 21,
   "metadata": {},
   "outputs": [],
   "source": [
    "!tar -czf {ARCHIVE_PATH} {TRAIN_PATH} {TEST_PATH}"
   ]
  },
  {
   "cell_type": "code",
   "execution_count": null,
   "metadata": {},
   "outputs": [],
   "source": []
  }
 ],
 "metadata": {
  "kernelspec": {
   "display_name": "tfod",
   "language": "python",
   "name": "tfod"
  },
  "language_info": {
   "codemirror_mode": {
    "name": "ipython",
    "version": 3
   },
   "file_extension": ".py",
   "mimetype": "text/x-python",
   "name": "python",
   "nbconvert_exporter": "python",
   "pygments_lexer": "ipython3",
   "version": "3.9.6"
  }
 },
 "nbformat": 4,
 "nbformat_minor": 2
}
