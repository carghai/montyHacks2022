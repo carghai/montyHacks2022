{
 "cells": [
  {
   "cell_type": "markdown",
   "metadata": {
    "id": "QUANWN3rpfC9",
    "pycharm": {
     "name": "#%% md\n"
    }
   },
   "source": [
    "# 0. Setup Paths"
   ]
  },
  {
   "cell_type": "code",
   "execution_count": 1,
   "metadata": {
    "executionInfo": {
     "elapsed": 145,
     "status": "ok",
     "timestamp": 1654961363970,
     "user": {
      "displayName": "Eddie Tang",
      "userId": "01077561938887483068"
     },
     "user_tz": 240
    },
    "id": "146BB11JpfDA",
    "pycharm": {
     "name": "#%%\n"
    }
   },
   "outputs": [],
   "source": [
    "import os"
   ]
  },
  {
   "cell_type": "code",
   "execution_count": 2,
   "metadata": {
    "executionInfo": {
     "elapsed": 143,
     "status": "ok",
     "timestamp": 1654961364822,
     "user": {
      "displayName": "Eddie Tang",
      "userId": "01077561938887483068"
     },
     "user_tz": 240
    },
    "id": "42hJEdo_pfDB",
    "pycharm": {
     "name": "#%%\n"
    }
   },
   "outputs": [],
   "source": [
    "CUSTOM_MODEL_NAME = 'my_ssd_mobnet' \n",
    "PRETRAINED_MODEL_NAME = 'ssd_mobilenet_v2_fpnlite_320x320_coco17_tpu-8'\n",
    "PRETRAINED_MODEL_URL = 'http://download.tensorflow.org/models/object_detection/tf2/20200711/ssd_mobilenet_v2_fpnlite_320x320_coco17_tpu-8.tar.gz'\n",
    "TF_RECORD_SCRIPT_NAME = 'generate_tfrecord.py'\n",
    "LABEL_MAP_NAME = 'label_map.pbtxt'"
   ]
  },
  {
   "cell_type": "code",
   "execution_count": 3,
   "metadata": {
    "id": "hbPhYVy_pfDB",
    "pycharm": {
     "name": "#%%\n"
    }
   },
   "outputs": [],
   "source": [
    "paths = {\n",
    "    'WORKSPACE_PATH': os.path.join('Tensorflow', 'workspace'),\n",
    "    'SCRIPTS_PATH': os.path.join('Tensorflow','scripts'),\n",
    "    'APIMODEL_PATH': os.path.join('Tensorflow','models'),\n",
    "    'ANNOTATION_PATH': os.path.join('Tensorflow', 'workspace','annotations'),\n",
    "    'IMAGE_PATH': os.path.join('Tensorflow', 'workspace','images'),\n",
    "    'MODEL_PATH': os.path.join('Tensorflow', 'workspace','models'),\n",
    "    'PRETRAINED_MODEL_PATH': os.path.join('Tensorflow', 'workspace','pre-trained-models'),\n",
    "    'CHECKPOINT_PATH': os.path.join('Tensorflow', 'workspace','models',CUSTOM_MODEL_NAME), \n",
    "    'OUTPUT_PATH': os.path.join('Tensorflow', 'workspace','models',CUSTOM_MODEL_NAME, 'export'), \n",
    "    'TFJS_PATH':os.path.join('Tensorflow', 'workspace','models',CUSTOM_MODEL_NAME, 'tfjsexport'), \n",
    "    'TFLITE_PATH':os.path.join('Tensorflow', 'workspace','models',CUSTOM_MODEL_NAME, 'tfliteexport'), \n",
    "    'PROTOC_PATH':os.path.join('Tensorflow','protoc')\n",
    " }"
   ]
  },
  {
   "cell_type": "code",
   "execution_count": 4,
   "metadata": {
    "id": "LwhWZMI0pfDC",
    "pycharm": {
     "name": "#%%\n"
    }
   },
   "outputs": [],
   "source": [
    "files = {\n",
    "    'PIPELINE_CONFIG':os.path.join('Tensorflow', 'workspace','models', CUSTOM_MODEL_NAME, 'pipeline.config'),\n",
    "    'TF_RECORD_SCRIPT': os.path.join(paths['SCRIPTS_PATH'], TF_RECORD_SCRIPT_NAME), \n",
    "    'LABELMAP': os.path.join(paths['ANNOTATION_PATH'], LABEL_MAP_NAME)\n",
    "}"
   ]
  },
  {
   "cell_type": "code",
   "execution_count": null,
   "metadata": {
    "id": "HR-TfDGrpfDC",
    "pycharm": {
     "name": "#%%\n"
    }
   },
   "outputs": [],
   "source": [
    "for path in paths.values():\n",
    "    if not os.path.exists(path):\n",
    "        if os.name == 'posix':\n",
    "            !mkdir -p {path}\n",
    "        if os.name == 'nt':\n",
    "            !mkdir {path}"
   ]
  },
  {
   "cell_type": "markdown",
   "metadata": {
    "id": "OLU-rs_ipfDE",
    "pycharm": {
     "name": "#%% md\n"
    }
   },
   "source": [
    "# 1. Download TF Models Pretrained Models from Tensorflow Model Zoo and Install TFOD"
   ]
  },
  {
   "cell_type": "code",
   "execution_count": null,
   "metadata": {
    "id": "fDAdBO2-RSIp",
    "pycharm": {
     "name": "#%%\n"
    }
   },
   "outputs": [],
   "source": [
    "# https://www.tensorflow.org/install/source_windows"
   ]
  },
  {
   "cell_type": "code",
   "execution_count": null,
   "metadata": {
    "id": "K-Cmz2edpfDE",
    "scrolled": true,
    "pycharm": {
     "name": "#%%\n"
    }
   },
   "outputs": [],
   "source": [
    "if os.name=='nt':\n",
    "    !pip install wget\n",
    "    "
   ]
  },
  {
   "cell_type": "code",
   "execution_count": 26,
   "metadata": {
    "pycharm": {
     "name": "#%%\n"
    }
   },
   "outputs": [],
   "source": [
    "import wget"
   ]
  },
  {
   "cell_type": "code",
   "execution_count": null,
   "metadata": {
    "colab": {
     "base_uri": "https://localhost:8080/"
    },
    "executionInfo": {
     "elapsed": 19658,
     "status": "ok",
     "timestamp": 1654959527623,
     "user": {
      "displayName": "Eddie Tang",
      "userId": "01077561938887483068"
     },
     "user_tz": 240
    },
    "id": "iA1DIq5OpfDE",
    "outputId": "a7ec0c18-4779-4548-f536-b3e2fef549a1",
    "pycharm": {
     "name": "#%%\n"
    }
   },
   "outputs": [],
   "source": [
    "if not os.path.exists(os.path.join(paths['APIMODEL_PATH'], 'research', 'object_detection')):\n",
    "    !git clone https://github.com/tensorflow/models {paths['APIMODEL_PATH']}"
   ]
  },
  {
   "cell_type": "code",
   "execution_count": null,
   "metadata": {
    "colab": {
     "base_uri": "https://localhost:8080/"
    },
    "executionInfo": {
     "elapsed": 109652,
     "status": "ok",
     "timestamp": 1654959645615,
     "user": {
      "displayName": "Eddie Tang",
      "userId": "01077561938887483068"
     },
     "user_tz": 240
    },
    "id": "rJjMHbnDs3Tv",
    "outputId": "8e07951c-cb8d-4723-8780-6401fa4f9ae1",
    "scrolled": true,
    "pycharm": {
     "name": "#%%\n"
    }
   },
   "outputs": [],
   "source": [
    "# Install Tensorflow Object Detection \n",
    "if os.name=='posix':  \n",
    "    !apt-get install protobuf-compiler\n",
    "    !cd Tensorflow/models/research && protoc object_detection/protos/*.proto --python_out=. && cp object_detection/packages/tf2/setup.py . && python -m pip install . \n",
    "    \n",
    "if os.name=='nt':\n",
    "    url=\"https://github.com/protocolbuffers/protobuf/releases/download/v3.15.6/protoc-3.15.6-win64.zip\"\n",
    "    wget.download(url)\n",
    "    !move protoc-3.15.6-win64.zip {paths['PROTOC_PATH']}\n",
    "    !cd {paths['PROTOC_PATH']} && tar -xf protoc-3.15.6-win64.zip\n",
    "    os.environ['PATH'] += os.pathsep + os.path.abspath(os.path.join(paths['PROTOC_PATH'], 'bin'))   \n",
    "    !cd Tensorflow/models/research && protoc object_detection/protos/*.proto --python_out=. && copy object_detection\\\\packages\\\\tf2\\\\setup.py setup.py && python setup.py build && python setup.py install\n",
    "    !cd Tensorflow/models/research/slim && pip install -e . "
   ]
  },
  {
   "cell_type": "code",
   "execution_count": null,
   "metadata": {
    "colab": {
     "base_uri": "https://localhost:8080/"
    },
    "executionInfo": {
     "elapsed": 34472,
     "status": "ok",
     "timestamp": 1654959687652,
     "user": {
      "displayName": "Eddie Tang",
      "userId": "01077561938887483068"
     },
     "user_tz": 240
    },
    "id": "0ttkgKv-RSIw",
    "outputId": "295cbcc7-5f3f-4766-e6dd-0b3cb31e8989",
    "scrolled": true,
    "pycharm": {
     "name": "#%%\n"
    }
   },
   "outputs": [],
   "source": [
    "VERIFICATION_SCRIPT = os.path.join(paths['APIMODEL_PATH'], 'research', 'object_detection', 'builders', 'model_builder_tf2_test.py')\n",
    "# Verify Installation\n",
    "!python {VERIFICATION_SCRIPT}"
   ]
  },
  {
   "cell_type": "code",
   "execution_count": null,
   "metadata": {
    "id": "xr5XGQj-RSIx",
    "outputId": "0496a066-945f-4dc3-d30f-0f35ff030ac1",
    "pycharm": {
     "name": "#%%\n"
    }
   },
   "outputs": [],
   "source": [
    "!pip uninstall tensorflow\n",
    "!pip install tensorflow --upgrade"
   ]
  },
  {
   "cell_type": "code",
   "execution_count": null,
   "metadata": {
    "id": "JWbG5W_8RSIy",
    "pycharm": {
     "name": "#%%\n"
    }
   },
   "outputs": [],
   "source": [
    "!tf_upgrade_v2"
   ]
  },
  {
   "cell_type": "code",
   "execution_count": null,
   "metadata": {
    "id": "Lddggo9pRSIy",
    "pycharm": {
     "name": "#%%\n"
    }
   },
   "outputs": [],
   "source": [
    "\n",
    "!pip install protobuf==3.2\n",
    "!pip install matplotlib==3.2"
   ]
  },
  {
   "cell_type": "code",
   "execution_count": null,
   "metadata": {
    "id": "HNZV3lrARSIz",
    "pycharm": {
     "name": "#%%\n"
    }
   },
   "outputs": [],
   "source": [
    "import object_detection"
   ]
  },
  {
   "cell_type": "code",
   "execution_count": null,
   "metadata": {
    "id": "0I2a97jVRSIz",
    "scrolled": true,
    "pycharm": {
     "name": "#%%\n"
    }
   },
   "outputs": [],
   "source": [
    "!pip install tensorflow-object-detection-api"
   ]
  },
  {
   "cell_type": "code",
   "execution_count": null,
   "metadata": {
    "colab": {
     "base_uri": "https://localhost:8080/"
    },
    "executionInfo": {
     "elapsed": 840,
     "status": "ok",
     "timestamp": 1654959698816,
     "user": {
      "displayName": "Eddie Tang",
      "userId": "01077561938887483068"
     },
     "user_tz": 240
    },
    "id": "csofht2npfDE",
    "outputId": "24ba6bed-5088-41ab-d372-e798e52034f8",
    "pycharm": {
     "name": "#%%\n"
    }
   },
   "outputs": [],
   "source": [
    "if os.name =='posix':\n",
    "    !wget {PRETRAINED_MODEL_URL}\n",
    "    !mv {PRETRAINED_MODEL_NAME+'.tar.gz'} {paths['PRETRAINED_MODEL_PATH']}\n",
    "    !cd {paths['PRETRAINED_MODEL_PATH']} && tar -zxvf {PRETRAINED_MODEL_NAME+'.tar.gz'}\n",
    "if os.name == 'nt':\n",
    "    wget.download(PRETRAINED_MODEL_URL)\n",
    "    !move {PRETRAINED_MODEL_NAME+'.tar.gz'} {paths['PRETRAINED_MODEL_PATH']}\n",
    "    !cd {paths['PRETRAINED_MODEL_PATH']} && tar -zxvf {PRETRAINED_MODEL_NAME+'.tar.gz'}"
   ]
  },
  {
   "cell_type": "markdown",
   "metadata": {
    "id": "M5KJTnkfpfDC",
    "pycharm": {
     "name": "#%% md\n"
    }
   },
   "source": [
    "# 2. Create Label Map"
   ]
  },
  {
   "cell_type": "code",
   "execution_count": 5,
   "metadata": {
    "executionInfo": {
     "elapsed": 148,
     "status": "ok",
     "timestamp": 1654961823519,
     "user": {
      "displayName": "Eddie Tang",
      "userId": "01077561938887483068"
     },
     "user_tz": 240
    },
    "id": "p1BVDWo7pfDC",
    "pycharm": {
     "name": "#%%\n"
    }
   },
   "outputs": [],
   "source": [
    "labels = [{'name':'ThumbsUp', 'id':1}, {'name':'ThumbsDown', 'id':2}, {'name':'ThankYou', 'id':3}, {'name':'LiveLong', 'id':4}]\n",
    "labels = [{'name':'plasticbottle', 'id':1}, {'name':'aluminumbottle', 'id':2}, {'name':'glassbottle', 'id':3}]\n",
    "with open(files['LABELMAP'], 'w') as f:\n",
    "    for label in labels:\n",
    "        f.write('item { \\n')\n",
    "        f.write('\\tname:\\'{}\\'\\n'.format(label['name']))\n",
    "        f.write('\\tid:{}\\n'.format(label['id']))\n",
    "        f.write('}\\n')"
   ]
  },
  {
   "cell_type": "markdown",
   "metadata": {
    "id": "C88zyVELpfDC",
    "pycharm": {
     "name": "#%% md\n"
    }
   },
   "source": [
    "# 3. Create TF records"
   ]
  },
  {
   "cell_type": "code",
   "execution_count": null,
   "metadata": {
    "id": "kvf5WccwrFGq",
    "pycharm": {
     "name": "#%%\n"
    }
   },
   "outputs": [],
   "source": [
    "# OPTIONAL IF RUNNING ON COLAB\n",
    "ARCHIVE_FILES = os.path.join(paths['IMAGE_PATH'], 'archive.tar.gz')\n",
    "if os.path.exists(ARCHIVE_FILES):\n",
    "  !tar -zxvf {ARCHIVE_FILES}"
   ]
  },
  {
   "cell_type": "code",
   "execution_count": null,
   "metadata": {
    "colab": {
     "base_uri": "https://localhost:8080/"
    },
    "executionInfo": {
     "elapsed": 5242,
     "status": "ok",
     "timestamp": 1654961984160,
     "user": {
      "displayName": "Eddie Tang",
      "userId": "01077561938887483068"
     },
     "user_tz": 240
    },
    "id": "cZpBs1zMRSI2",
    "outputId": "28cb0b50-514d-446e-92cc-30eee529fbd8",
    "pycharm": {
     "name": "#%%\n"
    }
   },
   "outputs": [],
   "source": [
    "!pip install pandas\n",
    "!pip install pytz"
   ]
  },
  {
   "cell_type": "code",
   "execution_count": null,
   "metadata": {
    "colab": {
     "base_uri": "https://localhost:8080/"
    },
    "executionInfo": {
     "elapsed": 884,
     "status": "ok",
     "timestamp": 1654961989422,
     "user": {
      "displayName": "Eddie Tang",
      "userId": "01077561938887483068"
     },
     "user_tz": 240
    },
    "id": "KWpb_BVUpfDD",
    "outputId": "3f0057ab-ac41-444e-999d-c6e5a4dffd67",
    "pycharm": {
     "name": "#%%\n"
    }
   },
   "outputs": [],
   "source": [
    "if not os.path.exists(files['TF_RECORD_SCRIPT']):\n",
    "    !git clone https://github.com/nicknochnack/GenerateTFRecord {paths['SCRIPTS_PATH']}"
   ]
  },
  {
   "cell_type": "code",
   "execution_count": null,
   "metadata": {
    "colab": {
     "base_uri": "https://localhost:8080/"
    },
    "executionInfo": {
     "elapsed": 6403,
     "status": "ok",
     "timestamp": 1654962096604,
     "user": {
      "displayName": "Eddie Tang",
      "userId": "01077561938887483068"
     },
     "user_tz": 240
    },
    "id": "UPFToGZqpfDD",
    "outputId": "6adcb413-0b1f-4cec-a9fe-992e974b537f",
    "pycharm": {
     "name": "#%%\n"
    }
   },
   "outputs": [],
   "source": [
    "!python {files['TF_RECORD_SCRIPT']} -x {os.path.join(paths['IMAGE_PATH'], 'train')} -l {files['LABELMAP']} -o {os.path.join(paths['ANNOTATION_PATH'], 'train.record')} \n",
    "!python {files['TF_RECORD_SCRIPT']} -x {os.path.join(paths['IMAGE_PATH'], 'test')} -l {files['LABELMAP']} -o {os.path.join(paths['ANNOTATION_PATH'], 'test.record')} "
   ]
  },
  {
   "cell_type": "markdown",
   "metadata": {
    "id": "qT4QU7pLpfDE",
    "pycharm": {
     "name": "#%% md\n"
    }
   },
   "source": [
    "# 4. Copy Model Config to Training Folder"
   ]
  },
  {
   "cell_type": "code",
   "execution_count": null,
   "metadata": {
    "executionInfo": {
     "elapsed": 181,
     "status": "ok",
     "timestamp": 1654962116549,
     "user": {
      "displayName": "Eddie Tang",
      "userId": "01077561938887483068"
     },
     "user_tz": 240
    },
    "id": "cOjuTFbwpfDF",
    "pycharm": {
     "name": "#%%\n"
    }
   },
   "outputs": [],
   "source": [
    "if os.name =='posix':\n",
    "    !cp {os.path.join(paths['PRETRAINED_MODEL_PATH'], PRETRAINED_MODEL_NAME, 'pipeline.config')} {os.path.join(paths['CHECKPOINT_PATH'])}\n",
    "if os.name == 'nt':\n",
    "    !copy {os.path.join(paths['PRETRAINED_MODEL_PATH'], PRETRAINED_MODEL_NAME, 'pipeline.config')} {os.path.join(paths['CHECKPOINT_PATH'])}"
   ]
  },
  {
   "cell_type": "markdown",
   "metadata": {
    "id": "Ga8gpNslpfDF",
    "pycharm": {
     "name": "#%% md\n"
    }
   },
   "source": [
    "# 5. Update Config For Transfer Learning"
   ]
  },
  {
   "cell_type": "code",
   "execution_count": 6,
   "metadata": {
    "executionInfo": {
     "elapsed": 3078,
     "status": "ok",
     "timestamp": 1654962138848,
     "user": {
      "displayName": "Eddie Tang",
      "userId": "01077561938887483068"
     },
     "user_tz": 240
    },
    "id": "Z9hRrO_ppfDF",
    "pycharm": {
     "name": "#%%\n"
    }
   },
   "outputs": [],
   "source": [
    "import tensorflow as tf\n",
    "from object_detection.utils import config_util\n",
    "from object_detection.protos import pipeline_pb2\n",
    "from google.protobuf import text_format"
   ]
  },
  {
   "cell_type": "code",
   "execution_count": 29,
   "metadata": {
    "executionInfo": {
     "elapsed": 398,
     "status": "ok",
     "timestamp": 1654962140856,
     "user": {
      "displayName": "Eddie Tang",
      "userId": "01077561938887483068"
     },
     "user_tz": 240
    },
    "id": "c2A0mn4ipfDF",
    "pycharm": {
     "name": "#%%\n"
    }
   },
   "outputs": [],
   "source": [
    "config = config_util.get_configs_from_pipeline_file(files['PIPELINE_CONFIG'])"
   ]
  },
  {
   "cell_type": "code",
   "execution_count": 15,
   "metadata": {
    "id": "uQA13-afpfDF",
    "pycharm": {
     "name": "#%%\n"
    }
   },
   "outputs": [
    {
     "data": {
      "text/plain": "{'model': ssd {\n   num_classes: 3\n   image_resizer {\n     fixed_shape_resizer {\n       height: 320\n       width: 320\n     }\n   }\n   feature_extractor {\n     type: \"ssd_mobilenet_v2_fpn_keras\"\n     depth_multiplier: 1.0\n     min_depth: 16\n     conv_hyperparams {\n       regularizer {\n         l2_regularizer {\n           weight: 3.9999998989515007e-05\n         }\n       }\n       initializer {\n         random_normal_initializer {\n           mean: 0.0\n           stddev: 0.009999999776482582\n         }\n       }\n       activation: RELU_6\n       batch_norm {\n         decay: 0.996999979019165\n         scale: true\n         epsilon: 0.0010000000474974513\n       }\n     }\n     use_depthwise: true\n     override_base_feature_extractor_hyperparams: true\n     fpn {\n       min_level: 3\n       max_level: 7\n       additional_layer_depth: 128\n     }\n   }\n   box_coder {\n     faster_rcnn_box_coder {\n       y_scale: 10.0\n       x_scale: 10.0\n       height_scale: 5.0\n       width_scale: 5.0\n     }\n   }\n   matcher {\n     argmax_matcher {\n       matched_threshold: 0.5\n       unmatched_threshold: 0.5\n       ignore_thresholds: false\n       negatives_lower_than_unmatched: true\n       force_match_for_each_row: true\n       use_matmul_gather: true\n     }\n   }\n   similarity_calculator {\n     iou_similarity {\n     }\n   }\n   box_predictor {\n     weight_shared_convolutional_box_predictor {\n       conv_hyperparams {\n         regularizer {\n           l2_regularizer {\n             weight: 3.9999998989515007e-05\n           }\n         }\n         initializer {\n           random_normal_initializer {\n             mean: 0.0\n             stddev: 0.009999999776482582\n           }\n         }\n         activation: RELU_6\n         batch_norm {\n           decay: 0.996999979019165\n           scale: true\n           epsilon: 0.0010000000474974513\n         }\n       }\n       depth: 128\n       num_layers_before_predictor: 4\n       kernel_size: 3\n       class_prediction_bias_init: -4.599999904632568\n       share_prediction_tower: true\n       use_depthwise: true\n     }\n   }\n   anchor_generator {\n     multiscale_anchor_generator {\n       min_level: 3\n       max_level: 7\n       anchor_scale: 4.0\n       aspect_ratios: 1.0\n       aspect_ratios: 2.0\n       aspect_ratios: 0.5\n       scales_per_octave: 2\n     }\n   }\n   post_processing {\n     batch_non_max_suppression {\n       score_threshold: 9.99999993922529e-09\n       iou_threshold: 0.6000000238418579\n       max_detections_per_class: 100\n       max_total_detections: 100\n       use_static_shapes: false\n     }\n     score_converter: SIGMOID\n   }\n   normalize_loss_by_num_matches: true\n   loss {\n     localization_loss {\n       weighted_smooth_l1 {\n       }\n     }\n     classification_loss {\n       weighted_sigmoid_focal {\n         gamma: 2.0\n         alpha: 0.25\n       }\n     }\n     classification_weight: 1.0\n     localization_weight: 1.0\n   }\n   encode_background_as_zeros: true\n   normalize_loc_loss_by_codesize: true\n   inplace_batchnorm_update: true\n   freeze_batchnorm: false\n },\n 'train_config': batch_size: 4\n data_augmentation_options {\n   random_horizontal_flip {\n   }\n }\n data_augmentation_options {\n   random_crop_image {\n     min_object_covered: 0.0\n     min_aspect_ratio: 0.75\n     max_aspect_ratio: 3.0\n     min_area: 0.75\n     max_area: 1.0\n     overlap_thresh: 0.0\n   }\n }\n sync_replicas: true\n optimizer {\n   momentum_optimizer {\n     learning_rate {\n       cosine_decay_learning_rate {\n         learning_rate_base: 0.07999999821186066\n         total_steps: 50000\n         warmup_learning_rate: 0.026666000485420227\n         warmup_steps: 1000\n       }\n     }\n     momentum_optimizer_value: 0.8999999761581421\n   }\n   use_moving_average: false\n }\n fine_tune_checkpoint: \"Tensorflow/workspace/pre-trained-models/ssd_mobilenet_v2_fpnlite_320x320_coco17_tpu-8/checkpoint/ckpt-0\"\n num_steps: 50000\n startup_delay_steps: 0.0\n replicas_to_aggregate: 8\n max_number_of_boxes: 100\n unpad_groundtruth_tensors: false\n fine_tune_checkpoint_type: \"detection\",\n 'train_input_config': label_map_path: \"Tensorflow/workspace/annotations/label_map.pbtxt\"\n tf_record_input_reader {\n   input_path: \"Tensorflow/workspace/annotations/train.record\"\n },\n 'eval_config': metrics_set: \"coco_detection_metrics\"\n use_moving_averages: false,\n 'eval_input_configs': [label_map_path: \"Tensorflow/workspace/annotations/label_map.pbtxt\"\n shuffle: false\n num_epochs: 1\n tf_record_input_reader {\n   input_path: \"Tensorflow/workspace/annotations/test.record\"\n }\n ],\n 'eval_input_config': label_map_path: \"Tensorflow/workspace/annotations/label_map.pbtxt\"\n shuffle: false\n num_epochs: 1\n tf_record_input_reader {\n   input_path: \"Tensorflow/workspace/annotations/test.record\"\n }}"
     },
     "execution_count": 15,
     "metadata": {},
     "output_type": "execute_result"
    }
   ],
   "source": [
    "config"
   ]
  },
  {
   "cell_type": "code",
   "execution_count": 30,
   "metadata": {
    "executionInfo": {
     "elapsed": 156,
     "status": "ok",
     "timestamp": 1654962162017,
     "user": {
      "displayName": "Eddie Tang",
      "userId": "01077561938887483068"
     },
     "user_tz": 240
    },
    "id": "9vK5lotDpfDF",
    "pycharm": {
     "name": "#%%\n"
    }
   },
   "outputs": [],
   "source": [
    "pipeline_config = pipeline_pb2.TrainEvalPipelineConfig()\n",
    "with tf.io.gfile.GFile(files['PIPELINE_CONFIG'], \"r\") as f:                                                                                                                                                                                                                     \n",
    "    proto_str = f.read()                                                                                                                                                                                                                                          \n",
    "    text_format.Merge(proto_str, pipeline_config)  "
   ]
  },
  {
   "cell_type": "code",
   "execution_count": 31,
   "metadata": {
    "executionInfo": {
     "elapsed": 129,
     "status": "ok",
     "timestamp": 1654962163262,
     "user": {
      "displayName": "Eddie Tang",
      "userId": "01077561938887483068"
     },
     "user_tz": 240
    },
    "id": "rP43Ph0JpfDG",
    "pycharm": {
     "name": "#%%\n"
    }
   },
   "outputs": [],
   "source": [
    "pipeline_config.model.ssd.num_classes = len(labels)\n",
    "pipeline_config.train_config.batch_size = 4\n",
    "pipeline_config.train_config.fine_tune_checkpoint = os.path.join(paths['PRETRAINED_MODEL_PATH'], PRETRAINED_MODEL_NAME, 'checkpoint', 'ckpt-0')\n",
    "pipeline_config.train_config.fine_tune_checkpoint_type = \"detection\"\n",
    "pipeline_config.train_input_reader.label_map_path= files['LABELMAP']\n",
    "pipeline_config.train_input_reader.tf_record_input_reader.input_path[:] = [os.path.join(paths['ANNOTATION_PATH'], 'train.record')]\n",
    "pipeline_config.eval_input_reader[0].label_map_path = files['LABELMAP']\n",
    "pipeline_config.eval_input_reader[0].tf_record_input_reader.input_path[:] = [os.path.join(paths['ANNOTATION_PATH'], 'test.record')]"
   ]
  },
  {
   "cell_type": "code",
   "execution_count": 32,
   "metadata": {
    "executionInfo": {
     "elapsed": 5,
     "status": "ok",
     "timestamp": 1654962165544,
     "user": {
      "displayName": "Eddie Tang",
      "userId": "01077561938887483068"
     },
     "user_tz": 240
    },
    "id": "oJvfgwWqpfDG",
    "pycharm": {
     "name": "#%%\n"
    }
   },
   "outputs": [],
   "source": [
    "config_text = text_format.MessageToString(pipeline_config)                                                                                                                                                                                                        \n",
    "with tf.io.gfile.GFile(files['PIPELINE_CONFIG'], \"wb\") as f:                                                                                                                                                                                                                     \n",
    "    f.write(config_text)   "
   ]
  },
  {
   "cell_type": "markdown",
   "metadata": {
    "id": "Zr3ON7xMpfDG",
    "pycharm": {
     "name": "#%% md\n"
    }
   },
   "source": [
    "# 6. Train the model"
   ]
  },
  {
   "cell_type": "code",
   "execution_count": null,
   "metadata": {
    "executionInfo": {
     "elapsed": 134,
     "status": "ok",
     "timestamp": 1654962170972,
     "user": {
      "displayName": "Eddie Tang",
      "userId": "01077561938887483068"
     },
     "user_tz": 240
    },
    "id": "B-Y2UQmQpfDG",
    "pycharm": {
     "name": "#%%\n"
    }
   },
   "outputs": [],
   "source": [
    "TRAINING_SCRIPT = os.path.join(paths['APIMODEL_PATH'], 'research', 'object_detection', 'model_main_tf2.py')"
   ]
  },
  {
   "cell_type": "code",
   "execution_count": null,
   "metadata": {
    "executionInfo": {
     "elapsed": 129,
     "status": "ok",
     "timestamp": 1654963562130,
     "user": {
      "displayName": "Eddie Tang",
      "userId": "01077561938887483068"
     },
     "user_tz": 240
    },
    "id": "jMP2XDfQpfDH",
    "pycharm": {
     "name": "#%%\n"
    }
   },
   "outputs": [],
   "source": [
    "command = \"python {} --model_dir={} --pipeline_config_path={} --num_train_steps=10000\".format(TRAINING_SCRIPT, paths['CHECKPOINT_PATH'],files['PIPELINE_CONFIG'])"
   ]
  },
  {
   "cell_type": "code",
   "execution_count": null,
   "metadata": {
    "colab": {
     "base_uri": "https://localhost:8080/"
    },
    "executionInfo": {
     "elapsed": 130,
     "status": "ok",
     "timestamp": 1654963563944,
     "user": {
      "displayName": "Eddie Tang",
      "userId": "01077561938887483068"
     },
     "user_tz": 240
    },
    "id": "A4OXXi-ApfDH",
    "outputId": "cd494a24-2d84-4f70-eb39-8ca9aa72365c",
    "pycharm": {
     "name": "#%%\n"
    }
   },
   "outputs": [],
   "source": [
    "print(command)"
   ]
  },
  {
   "cell_type": "code",
   "execution_count": null,
   "metadata": {
    "id": "rzwC_UrwcRi9",
    "pycharm": {
     "name": "#%%\n"
    }
   },
   "outputs": [],
   "source": [
    "!pip uninstall opencv-python\n",
    "!pip install opencv-python"
   ]
  },
  {
   "cell_type": "code",
   "execution_count": null,
   "metadata": {
    "colab": {
     "base_uri": "https://localhost:8080/"
    },
    "executionInfo": {
     "elapsed": 589810,
     "status": "ok",
     "timestamp": 1654964158853,
     "user": {
      "displayName": "Eddie Tang",
      "userId": "01077561938887483068"
     },
     "user_tz": 240
    },
    "id": "i3ZsJR-qpfDH",
    "outputId": "b9ddaa2e-7a4f-46c5-e7d6-27349f4a664f",
    "pycharm": {
     "name": "#%%\n"
    }
   },
   "outputs": [],
   "source": [
    "!{command}"
   ]
  },
  {
   "cell_type": "code",
   "execution_count": null,
   "metadata": {
    "id": "-JTM3ca5bzJW",
    "pycharm": {
     "name": "#%%\n"
    }
   },
   "outputs": [],
   "source": [
    "%load_ext tensorboard\n",
    "import tensorflow as tf\n",
    "import datetime, os\n",
    "%tensorboard --logdir logs\n"
   ]
  },
  {
   "cell_type": "code",
   "execution_count": null,
   "metadata": {
    "executionInfo": {
     "elapsed": 326,
     "status": "ok",
     "timestamp": 1654964305359,
     "user": {
      "displayName": "Eddie Tang",
      "userId": "01077561938887483068"
     },
     "user_tz": 240
    },
    "id": "i1GTnGDWjzQm",
    "pycharm": {
     "name": "#%%\n"
    }
   },
   "outputs": [],
   "source": [
    "!kill 2521"
   ]
  },
  {
   "cell_type": "code",
   "execution_count": null,
   "metadata": {
    "id": "Vyc0qmCwc3A6",
    "pycharm": {
     "name": "#%%\n"
    }
   },
   "outputs": [],
   "source": [
    "!apt install --allow-change-held-packages libcudnn8=8.1.0.77-1+cuda11.2"
   ]
  },
  {
   "cell_type": "markdown",
   "metadata": {
    "id": "4_YRZu7npfDH",
    "pycharm": {
     "name": "#%% md\n"
    }
   },
   "source": [
    "# 7. Evaluate the Model"
   ]
  },
  {
   "cell_type": "code",
   "execution_count": null,
   "metadata": {
    "id": "9nHYgpfghWyT",
    "pycharm": {
     "name": "#%%\n"
    }
   },
   "outputs": [],
   "source": [
    "# processing the images\n",
    "\n"
   ]
  },
  {
   "cell_type": "code",
   "execution_count": 21,
   "metadata": {
    "executionInfo": {
     "elapsed": 218,
     "status": "ok",
     "timestamp": 1654964173923,
     "user": {
      "displayName": "Eddie Tang",
      "userId": "01077561938887483068"
     },
     "user_tz": 240
    },
    "id": "80L7-fdPpfDH",
    "pycharm": {
     "name": "#%%\n"
    }
   },
   "outputs": [
    {
     "ename": "NameError",
     "evalue": "name 'TRAINING_SCRIPT' is not defined",
     "output_type": "error",
     "traceback": [
      "\u001B[1;31m---------------------------------------------------------------------------\u001B[0m",
      "\u001B[1;31mNameError\u001B[0m                                 Traceback (most recent call last)",
      "Input \u001B[1;32mIn [21]\u001B[0m, in \u001B[0;36m<cell line: 1>\u001B[1;34m()\u001B[0m\n\u001B[1;32m----> 1\u001B[0m command \u001B[38;5;241m=\u001B[39m \u001B[38;5;124m\"\u001B[39m\u001B[38;5;124mpython \u001B[39m\u001B[38;5;132;01m{}\u001B[39;00m\u001B[38;5;124m --model_dir=\u001B[39m\u001B[38;5;132;01m{}\u001B[39;00m\u001B[38;5;124m --pipeline_config_path=\u001B[39m\u001B[38;5;132;01m{}\u001B[39;00m\u001B[38;5;124m --checkpoint_dir=\u001B[39m\u001B[38;5;132;01m{}\u001B[39;00m\u001B[38;5;124m\"\u001B[39m\u001B[38;5;241m.\u001B[39mformat(\u001B[43mTRAINING_SCRIPT\u001B[49m, paths[\u001B[38;5;124m'\u001B[39m\u001B[38;5;124mCHECKPOINT_PATH\u001B[39m\u001B[38;5;124m'\u001B[39m],files[\u001B[38;5;124m'\u001B[39m\u001B[38;5;124mPIPELINE_CONFIG\u001B[39m\u001B[38;5;124m'\u001B[39m], paths[\u001B[38;5;124m'\u001B[39m\u001B[38;5;124mCHECKPOINT_PATH\u001B[39m\u001B[38;5;124m'\u001B[39m])\n",
      "\u001B[1;31mNameError\u001B[0m: name 'TRAINING_SCRIPT' is not defined"
     ]
    }
   ],
   "source": [
    "command = \"python {} --model_dir={} --pipeline_config_path={} --checkpoint_dir={}\".format(TRAINING_SCRIPT, paths['CHECKPOINT_PATH'],files['PIPELINE_CONFIG'], paths['CHECKPOINT_PATH'])"
   ]
  },
  {
   "cell_type": "code",
   "execution_count": null,
   "metadata": {
    "colab": {
     "base_uri": "https://localhost:8080/"
    },
    "executionInfo": {
     "elapsed": 138,
     "status": "ok",
     "timestamp": 1654964174892,
     "user": {
      "displayName": "Eddie Tang",
      "userId": "01077561938887483068"
     },
     "user_tz": 240
    },
    "id": "lYsgEPx9pfDH",
    "outputId": "b517716e-6581-44b3-d101-e77c359e1176",
    "pycharm": {
     "name": "#%%\n"
    }
   },
   "outputs": [],
   "source": [
    "print(command)"
   ]
  },
  {
   "cell_type": "code",
   "execution_count": null,
   "metadata": {
    "id": "lqTV2jGBpfDH",
    "pycharm": {
     "name": "#%%\n"
    }
   },
   "outputs": [],
   "source": [
    "!{command}"
   ]
  },
  {
   "cell_type": "markdown",
   "metadata": {
    "id": "orvRk02UpfDI",
    "pycharm": {
     "name": "#%% md\n"
    }
   },
   "source": [
    "# 8. Load Train Model From Checkpoint"
   ]
  },
  {
   "cell_type": "code",
   "execution_count": 7,
   "metadata": {
    "executionInfo": {
     "elapsed": 143,
     "status": "ok",
     "timestamp": 1654964323533,
     "user": {
      "displayName": "Eddie Tang",
      "userId": "01077561938887483068"
     },
     "user_tz": 240
    },
    "id": "8TYk4_oIpfDI",
    "pycharm": {
     "name": "#%%\n"
    }
   },
   "outputs": [],
   "source": [
    "import os\n",
    "import tensorflow as tf\n",
    "from object_detection.utils import label_map_util\n",
    "from object_detection.utils import visualization_utils as viz_utils\n",
    "from object_detection.builders import model_builder\n",
    "from object_detection.utils import config_util"
   ]
  },
  {
   "cell_type": "code",
   "execution_count": 8,
   "metadata": {
    "executionInfo": {
     "elapsed": 149,
     "status": "ok",
     "timestamp": 1654963471051,
     "user": {
      "displayName": "Eddie Tang",
      "userId": "01077561938887483068"
     },
     "user_tz": 240
    },
    "id": "tDnQg-cYpfDI",
    "pycharm": {
     "name": "#%%\n"
    }
   },
   "outputs": [],
   "source": [
    "# Load pipeline config and build a detection model\n",
    "configs = config_util.get_configs_from_pipeline_file(files['PIPELINE_CONFIG'])\n",
    "detection_model = model_builder.build(model_config=configs['model'], is_training=False)\n",
    "\n",
    "# Restore checkpoint\n",
    "ckpt = tf.compat.v2.train.Checkpoint(model=detection_model)\n",
    "ckpt.restore(os.path.join(paths['CHECKPOINT_PATH'], 'ckpt-20')).expect_partial()\n",
    "\n",
    "@tf.function\n",
    "def detect_fn(image):\n",
    "    image, shapes = detection_model.preprocess(image)\n",
    "    prediction_dict = detection_model.predict(image, shapes)\n",
    "    detections = detection_model.postprocess(prediction_dict, shapes)\n",
    "    return detections"
   ]
  },
  {
   "cell_type": "markdown",
   "metadata": {
    "id": "0EmsmbBZpfDI",
    "pycharm": {
     "name": "#%% md\n"
    }
   },
   "source": [
    "# 9. Detect from an Image"
   ]
  },
  {
   "cell_type": "code",
   "execution_count": 9,
   "metadata": {
    "executionInfo": {
     "elapsed": 133,
     "status": "ok",
     "timestamp": 1654964334099,
     "user": {
      "displayName": "Eddie Tang",
      "userId": "01077561938887483068"
     },
     "user_tz": 240
    },
    "id": "Y_MKiuZ4pfDI",
    "pycharm": {
     "name": "#%%\n"
    }
   },
   "outputs": [],
   "source": [
    "import cv2 \n",
    "import numpy as np\n",
    "from matplotlib import pyplot as plt\n",
    "%matplotlib inline"
   ]
  },
  {
   "cell_type": "code",
   "execution_count": 10,
   "metadata": {
    "executionInfo": {
     "elapsed": 153,
     "status": "ok",
     "timestamp": 1654964334955,
     "user": {
      "displayName": "Eddie Tang",
      "userId": "01077561938887483068"
     },
     "user_tz": 240
    },
    "id": "cBDbIhNapfDI",
    "pycharm": {
     "name": "#%%\n"
    }
   },
   "outputs": [],
   "source": [
    "category_index = label_map_util.create_category_index_from_labelmap(files['LABELMAP'])"
   ]
  },
  {
   "cell_type": "code",
   "execution_count": 11,
   "metadata": {
    "executionInfo": {
     "elapsed": 150,
     "status": "ok",
     "timestamp": 1654964568969,
     "user": {
      "displayName": "Eddie Tang",
      "userId": "01077561938887483068"
     },
     "user_tz": 240
    },
    "id": "Lx3crOhOzITB",
    "pycharm": {
     "name": "#%%\n"
    }
   },
   "outputs": [],
   "source": [
    "\n",
    "IMAGE_PATH = os.path.join(paths['IMAGE_PATH'], 'train', '0218091429.jpg')"
   ]
  },
  {
   "cell_type": "code",
   "execution_count": null,
   "metadata": {
    "colab": {
     "base_uri": "https://localhost:8080/",
     "height": 286
    },
    "executionInfo": {
     "elapsed": 573,
     "status": "ok",
     "timestamp": 1654965212400,
     "user": {
      "displayName": "Eddie Tang",
      "userId": "01077561938887483068"
     },
     "user_tz": 240
    },
    "id": "Tpzn1SMry1yK",
    "outputId": "d390eee4-4c00-4d4f-81fb-6be004629392",
    "pycharm": {
     "name": "#%%\n"
    }
   },
   "outputs": [
    {
     "ename": "TypeError",
     "evalue": "in user code:\n\n    File \"C:\\Users\\Eddie\\AppData\\Local\\Temp\\ipykernel_5840\\2462016382.py\", line 11, in detect_fn  *\n        image, shapes = detection_model.preprocess(image)\n    File \"C:\\Users\\Eddie\\Python Machine Learning\\Tensorflow Object Detection\\TFODCourse\\tfod\\lib\\site-packages\\object_detection\\meta_architectures\\ssd_meta_arch.py\", line 472, in preprocess  *\n        outputs = shape_utils.static_or_dynamic_map_fn(\n    File \"C:\\Users\\Eddie\\Python Machine Learning\\Tensorflow Object Detection\\TFODCourse\\tfod\\lib\\site-packages\\object_detection\\utils\\shape_utils.py\", line 237, in static_or_dynamic_map_fn  *\n        outputs = [fn(arg) for arg in tf.unstack(elems)]\n    File \"C:\\Users\\Eddie\\Python Machine Learning\\Tensorflow Object Detection\\TFODCourse\\tfod\\lib\\site-packages\\object_detection\\core\\preprocessor.py\", line 2418, in resize_image  *\n        with tf.name_scope(\n\n    TypeError: __init__() got an unexpected keyword argument 'values'\n",
     "output_type": "error",
     "traceback": [
      "\u001B[1;31m---------------------------------------------------------------------------\u001B[0m",
      "\u001B[1;31mTypeError\u001B[0m                                 Traceback (most recent call last)",
      "Input \u001B[1;32mIn [12]\u001B[0m, in \u001B[0;36m<cell line: 5>\u001B[1;34m()\u001B[0m\n\u001B[0;32m      2\u001B[0m image_np \u001B[38;5;241m=\u001B[39m np\u001B[38;5;241m.\u001B[39marray(img)\n\u001B[0;32m      4\u001B[0m input_tensor \u001B[38;5;241m=\u001B[39m tf\u001B[38;5;241m.\u001B[39mconvert_to_tensor(np\u001B[38;5;241m.\u001B[39mexpand_dims(image_np, \u001B[38;5;241m0\u001B[39m), dtype\u001B[38;5;241m=\u001B[39mtf\u001B[38;5;241m.\u001B[39mfloat32)\n\u001B[1;32m----> 5\u001B[0m detections \u001B[38;5;241m=\u001B[39m \u001B[43mdetect_fn\u001B[49m\u001B[43m(\u001B[49m\u001B[43minput_tensor\u001B[49m\u001B[43m)\u001B[49m\n\u001B[0;32m      7\u001B[0m num_detections \u001B[38;5;241m=\u001B[39m \u001B[38;5;28mint\u001B[39m(detections\u001B[38;5;241m.\u001B[39mpop(\u001B[38;5;124m'\u001B[39m\u001B[38;5;124mnum_detections\u001B[39m\u001B[38;5;124m'\u001B[39m))\n\u001B[0;32m      8\u001B[0m detections \u001B[38;5;241m=\u001B[39m {key: value[\u001B[38;5;241m0\u001B[39m, :num_detections]\u001B[38;5;241m.\u001B[39mnumpy()\n\u001B[0;32m      9\u001B[0m               \u001B[38;5;28;01mfor\u001B[39;00m key, value \u001B[38;5;129;01min\u001B[39;00m detections\u001B[38;5;241m.\u001B[39mitems()}\n",
      "File \u001B[1;32m~\\Python Machine Learning\\Tensorflow Object Detection\\TFODCourse\\tfod\\lib\\site-packages\\tensorflow\\python\\util\\traceback_utils.py:153\u001B[0m, in \u001B[0;36mfilter_traceback.<locals>.error_handler\u001B[1;34m(*args, **kwargs)\u001B[0m\n\u001B[0;32m    151\u001B[0m \u001B[38;5;28;01mexcept\u001B[39;00m \u001B[38;5;167;01mException\u001B[39;00m \u001B[38;5;28;01mas\u001B[39;00m e:\n\u001B[0;32m    152\u001B[0m   filtered_tb \u001B[38;5;241m=\u001B[39m _process_traceback_frames(e\u001B[38;5;241m.\u001B[39m__traceback__)\n\u001B[1;32m--> 153\u001B[0m   \u001B[38;5;28;01mraise\u001B[39;00m e\u001B[38;5;241m.\u001B[39mwith_traceback(filtered_tb) \u001B[38;5;28;01mfrom\u001B[39;00m \u001B[38;5;28mNone\u001B[39m\n\u001B[0;32m    154\u001B[0m \u001B[38;5;28;01mfinally\u001B[39;00m:\n\u001B[0;32m    155\u001B[0m   \u001B[38;5;28;01mdel\u001B[39;00m filtered_tb\n",
      "File \u001B[1;32m~\\AppData\\Local\\Temp\\__autograph_generated_fileimmarypo.py:10\u001B[0m, in \u001B[0;36mouter_factory.<locals>.inner_factory.<locals>.tf__detect_fn\u001B[1;34m(image)\u001B[0m\n\u001B[0;32m      8\u001B[0m do_return \u001B[38;5;241m=\u001B[39m \u001B[38;5;28;01mFalse\u001B[39;00m\n\u001B[0;32m      9\u001B[0m retval_ \u001B[38;5;241m=\u001B[39m ag__\u001B[38;5;241m.\u001B[39mUndefinedReturnValue()\n\u001B[1;32m---> 10\u001B[0m (image, shapes) \u001B[38;5;241m=\u001B[39m ag__\u001B[38;5;241m.\u001B[39mconverted_call(ag__\u001B[38;5;241m.\u001B[39mld(detection_model)\u001B[38;5;241m.\u001B[39mpreprocess, (ag__\u001B[38;5;241m.\u001B[39mld(image),), \u001B[38;5;28;01mNone\u001B[39;00m, fscope)\n\u001B[0;32m     11\u001B[0m prediction_dict \u001B[38;5;241m=\u001B[39m ag__\u001B[38;5;241m.\u001B[39mconverted_call(ag__\u001B[38;5;241m.\u001B[39mld(detection_model)\u001B[38;5;241m.\u001B[39mpredict, (ag__\u001B[38;5;241m.\u001B[39mld(image), ag__\u001B[38;5;241m.\u001B[39mld(shapes)), \u001B[38;5;28;01mNone\u001B[39;00m, fscope)\n\u001B[0;32m     12\u001B[0m detections \u001B[38;5;241m=\u001B[39m ag__\u001B[38;5;241m.\u001B[39mconverted_call(ag__\u001B[38;5;241m.\u001B[39mld(detection_model)\u001B[38;5;241m.\u001B[39mpostprocess, (ag__\u001B[38;5;241m.\u001B[39mld(prediction_dict), ag__\u001B[38;5;241m.\u001B[39mld(shapes)), \u001B[38;5;28;01mNone\u001B[39;00m, fscope)\n",
      "File \u001B[1;32m~\\AppData\\Local\\Temp\\__autograph_generated_fileqjm97kfo.py:45\u001B[0m, in \u001B[0;36mouter_factory.<locals>.inner_factory.<locals>.tf__preprocess\u001B[1;34m(self, inputs)\u001B[0m\n\u001B[0;32m     43\u001B[0m ag__\u001B[38;5;241m.\u001B[39mif_stmt(ag__\u001B[38;5;241m.\u001B[39mld(inputs)\u001B[38;5;241m.\u001B[39mdtype \u001B[38;5;129;01mis\u001B[39;00m \u001B[38;5;129;01mnot\u001B[39;00m ag__\u001B[38;5;241m.\u001B[39mld(tf)\u001B[38;5;241m.\u001B[39mfloat32, if_body, else_body, get_state, set_state, (), \u001B[38;5;241m0\u001B[39m)\n\u001B[0;32m     44\u001B[0m \u001B[38;5;28;01mwith\u001B[39;00m ag__\u001B[38;5;241m.\u001B[39mld(tf)\u001B[38;5;241m.\u001B[39mname_scope(\u001B[38;5;124m'\u001B[39m\u001B[38;5;124mPreprocessor\u001B[39m\u001B[38;5;124m'\u001B[39m):\n\u001B[1;32m---> 45\u001B[0m     outputs \u001B[38;5;241m=\u001B[39m ag__\u001B[38;5;241m.\u001B[39mconverted_call(ag__\u001B[38;5;241m.\u001B[39mld(shape_utils)\u001B[38;5;241m.\u001B[39mstatic_or_dynamic_map_fn, (ag__\u001B[38;5;241m.\u001B[39mld(\u001B[38;5;28mself\u001B[39m)\u001B[38;5;241m.\u001B[39m_image_resizer_fn,), \u001B[38;5;28mdict\u001B[39m(elems\u001B[38;5;241m=\u001B[39mag__\u001B[38;5;241m.\u001B[39mld(inputs), dtype\u001B[38;5;241m=\u001B[39m[ag__\u001B[38;5;241m.\u001B[39mld(tf)\u001B[38;5;241m.\u001B[39mfloat32, ag__\u001B[38;5;241m.\u001B[39mld(tf)\u001B[38;5;241m.\u001B[39mint32]), fscope)\n\u001B[0;32m     46\u001B[0m     resized_inputs \u001B[38;5;241m=\u001B[39m ag__\u001B[38;5;241m.\u001B[39mld(outputs)[\u001B[38;5;241m0\u001B[39m]\n\u001B[0;32m     47\u001B[0m     true_image_shapes \u001B[38;5;241m=\u001B[39m ag__\u001B[38;5;241m.\u001B[39mld(outputs)[\u001B[38;5;241m1\u001B[39m]\n",
      "File \u001B[1;32m~\\AppData\\Local\\Temp\\__autograph_generated_fileudc3a2kx.py:185\u001B[0m, in \u001B[0;36mouter_factory.<locals>.inner_factory.<locals>.tf__static_or_dynamic_map_fn\u001B[1;34m(fn, elems, dtype, parallel_iterations, back_prop)\u001B[0m\n\u001B[0;32m    183\u001B[0m outputs \u001B[38;5;241m=\u001B[39m ag__\u001B[38;5;241m.\u001B[39mUndefined(\u001B[38;5;124m'\u001B[39m\u001B[38;5;124moutputs\u001B[39m\u001B[38;5;124m'\u001B[39m)\n\u001B[0;32m    184\u001B[0m elem \u001B[38;5;241m=\u001B[39m ag__\u001B[38;5;241m.\u001B[39mUndefined(\u001B[38;5;124m'\u001B[39m\u001B[38;5;124melem\u001B[39m\u001B[38;5;124m'\u001B[39m)\n\u001B[1;32m--> 185\u001B[0m ag__\u001B[38;5;241m.\u001B[39mif_stmt(ag__\u001B[38;5;241m.\u001B[39mconverted_call(ag__\u001B[38;5;241m.\u001B[39mld(\u001B[38;5;28misinstance\u001B[39m), (ag__\u001B[38;5;241m.\u001B[39mld(elems), ag__\u001B[38;5;241m.\u001B[39mld(\u001B[38;5;28mlist\u001B[39m)), \u001B[38;5;28;01mNone\u001B[39;00m, fscope), if_body_5, else_body_5, get_state_7, set_state_7, (\u001B[38;5;124m'\u001B[39m\u001B[38;5;124mdo_return\u001B[39m\u001B[38;5;124m'\u001B[39m, \u001B[38;5;124m'\u001B[39m\u001B[38;5;124moutputs\u001B[39m\u001B[38;5;124m'\u001B[39m, \u001B[38;5;124m'\u001B[39m\u001B[38;5;124mretval_\u001B[39m\u001B[38;5;124m'\u001B[39m), \u001B[38;5;241m3\u001B[39m)\n\u001B[0;32m    187\u001B[0m \u001B[38;5;28;01mdef\u001B[39;00m \u001B[38;5;21mget_state_12\u001B[39m():\n\u001B[0;32m    188\u001B[0m     \u001B[38;5;28;01mreturn\u001B[39;00m (do_return, retval_)\n",
      "File \u001B[1;32m~\\AppData\\Local\\Temp\\__autograph_generated_fileudc3a2kx.py:178\u001B[0m, in \u001B[0;36mouter_factory.<locals>.inner_factory.<locals>.tf__static_or_dynamic_map_fn.<locals>.else_body_5\u001B[1;34m()\u001B[0m\n\u001B[0;32m    176\u001B[0m     outputs \u001B[38;5;241m=\u001B[39m [ag__\u001B[38;5;241m.\u001B[39mconverted_call(ag__\u001B[38;5;241m.\u001B[39mld(fn), (ag__\u001B[38;5;241m.\u001B[39mld(arg),), \u001B[38;5;28;01mNone\u001B[39;00m, fscope) \u001B[38;5;28;01mfor\u001B[39;00m arg \u001B[38;5;129;01min\u001B[39;00m ag__\u001B[38;5;241m.\u001B[39mconverted_call(ag__\u001B[38;5;241m.\u001B[39mld(tf)\u001B[38;5;241m.\u001B[39munstack, (ag__\u001B[38;5;241m.\u001B[39mld(elems),), \u001B[38;5;28;01mNone\u001B[39;00m, fscope)]\n\u001B[0;32m    177\u001B[0m outputs \u001B[38;5;241m=\u001B[39m ag__\u001B[38;5;241m.\u001B[39mUndefined(\u001B[38;5;124m'\u001B[39m\u001B[38;5;124moutputs\u001B[39m\u001B[38;5;124m'\u001B[39m)\n\u001B[1;32m--> 178\u001B[0m \u001B[43mag__\u001B[49m\u001B[38;5;241;43m.\u001B[39;49m\u001B[43mif_stmt\u001B[49m\u001B[43m(\u001B[49m\u001B[43mag__\u001B[49m\u001B[38;5;241;43m.\u001B[39;49m\u001B[43mor_\u001B[49m\u001B[43m(\u001B[49m\u001B[38;5;28;43;01mlambda\u001B[39;49;00m\u001B[43m \u001B[49m\u001B[43m:\u001B[49m\u001B[43m \u001B[49m\u001B[43mag__\u001B[49m\u001B[38;5;241;43m.\u001B[39;49m\u001B[43mnot_\u001B[49m\u001B[43m(\u001B[49m\u001B[43mag__\u001B[49m\u001B[38;5;241;43m.\u001B[39;49m\u001B[43mld\u001B[49m\u001B[43m(\u001B[49m\u001B[43melems_shape\u001B[49m\u001B[43m)\u001B[49m\u001B[43m)\u001B[49m\u001B[43m,\u001B[49m\u001B[43m \u001B[49m\u001B[38;5;28;43;01mlambda\u001B[39;49;00m\u001B[43m \u001B[49m\u001B[43m:\u001B[49m\u001B[43m \u001B[49m\u001B[43mag__\u001B[49m\u001B[38;5;241;43m.\u001B[39;49m\u001B[43mnot_\u001B[49m\u001B[43m(\u001B[49m\u001B[43mag__\u001B[49m\u001B[38;5;241;43m.\u001B[39;49m\u001B[43mld\u001B[49m\u001B[43m(\u001B[49m\u001B[43melems_shape\u001B[49m\u001B[43m)\u001B[49m\u001B[43m[\u001B[49m\u001B[38;5;241;43m0\u001B[39;49m\u001B[43m]\u001B[49m\u001B[43m)\u001B[49m\u001B[43m)\u001B[49m\u001B[43m,\u001B[49m\u001B[43m \u001B[49m\u001B[43mif_body_4\u001B[49m\u001B[43m,\u001B[49m\u001B[43m \u001B[49m\u001B[43melse_body_4\u001B[49m\u001B[43m,\u001B[49m\u001B[43m \u001B[49m\u001B[43mget_state_6\u001B[49m\u001B[43m,\u001B[49m\u001B[43m \u001B[49m\u001B[43mset_state_6\u001B[49m\u001B[43m,\u001B[49m\u001B[43m \u001B[49m\u001B[43m(\u001B[49m\u001B[38;5;124;43m'\u001B[39;49m\u001B[38;5;124;43mdo_return\u001B[39;49m\u001B[38;5;124;43m'\u001B[39;49m\u001B[43m,\u001B[49m\u001B[43m \u001B[49m\u001B[38;5;124;43m'\u001B[39;49m\u001B[38;5;124;43moutputs\u001B[39;49m\u001B[38;5;124;43m'\u001B[39;49m\u001B[43m,\u001B[49m\u001B[43m \u001B[49m\u001B[38;5;124;43m'\u001B[39;49m\u001B[38;5;124;43mretval_\u001B[39;49m\u001B[38;5;124;43m'\u001B[39;49m\u001B[43m)\u001B[49m\u001B[43m,\u001B[49m\u001B[43m \u001B[49m\u001B[38;5;241;43m3\u001B[39;49m\u001B[43m)\u001B[49m\n",
      "File \u001B[1;32m~\\AppData\\Local\\Temp\\__autograph_generated_fileudc3a2kx.py:176\u001B[0m, in \u001B[0;36mouter_factory.<locals>.inner_factory.<locals>.tf__static_or_dynamic_map_fn.<locals>.else_body_5.<locals>.else_body_4\u001B[1;34m()\u001B[0m\n\u001B[0;32m    174\u001B[0m \u001B[38;5;28;01mdef\u001B[39;00m \u001B[38;5;21melse_body_4\u001B[39m():\n\u001B[0;32m    175\u001B[0m     \u001B[38;5;28;01mnonlocal\u001B[39;00m outputs, do_return, retval_\n\u001B[1;32m--> 176\u001B[0m     outputs \u001B[38;5;241m=\u001B[39m [ag__\u001B[38;5;241m.\u001B[39mconverted_call(ag__\u001B[38;5;241m.\u001B[39mld(fn), (ag__\u001B[38;5;241m.\u001B[39mld(arg),), \u001B[38;5;28;01mNone\u001B[39;00m, fscope) \u001B[38;5;28;01mfor\u001B[39;00m arg \u001B[38;5;129;01min\u001B[39;00m ag__\u001B[38;5;241m.\u001B[39mconverted_call(ag__\u001B[38;5;241m.\u001B[39mld(tf)\u001B[38;5;241m.\u001B[39munstack, (ag__\u001B[38;5;241m.\u001B[39mld(elems),), \u001B[38;5;28;01mNone\u001B[39;00m, fscope)]\n",
      "File \u001B[1;32m~\\AppData\\Local\\Temp\\__autograph_generated_fileudc3a2kx.py:176\u001B[0m, in \u001B[0;36m<listcomp>\u001B[1;34m(.0)\u001B[0m\n\u001B[0;32m    174\u001B[0m \u001B[38;5;28;01mdef\u001B[39;00m \u001B[38;5;21melse_body_4\u001B[39m():\n\u001B[0;32m    175\u001B[0m     \u001B[38;5;28;01mnonlocal\u001B[39;00m outputs, do_return, retval_\n\u001B[1;32m--> 176\u001B[0m     outputs \u001B[38;5;241m=\u001B[39m [\u001B[43mag__\u001B[49m\u001B[38;5;241;43m.\u001B[39;49m\u001B[43mconverted_call\u001B[49m\u001B[43m(\u001B[49m\u001B[43mag__\u001B[49m\u001B[38;5;241;43m.\u001B[39;49m\u001B[43mld\u001B[49m\u001B[43m(\u001B[49m\u001B[43mfn\u001B[49m\u001B[43m)\u001B[49m\u001B[43m,\u001B[49m\u001B[43m \u001B[49m\u001B[43m(\u001B[49m\u001B[43mag__\u001B[49m\u001B[38;5;241;43m.\u001B[39;49m\u001B[43mld\u001B[49m\u001B[43m(\u001B[49m\u001B[43marg\u001B[49m\u001B[43m)\u001B[49m\u001B[43m,\u001B[49m\u001B[43m)\u001B[49m\u001B[43m,\u001B[49m\u001B[43m \u001B[49m\u001B[38;5;28;43;01mNone\u001B[39;49;00m\u001B[43m,\u001B[49m\u001B[43m \u001B[49m\u001B[43mfscope\u001B[49m\u001B[43m)\u001B[49m \u001B[38;5;28;01mfor\u001B[39;00m arg \u001B[38;5;129;01min\u001B[39;00m ag__\u001B[38;5;241m.\u001B[39mconverted_call(ag__\u001B[38;5;241m.\u001B[39mld(tf)\u001B[38;5;241m.\u001B[39munstack, (ag__\u001B[38;5;241m.\u001B[39mld(elems),), \u001B[38;5;28;01mNone\u001B[39;00m, fscope)]\n",
      "File \u001B[1;32m~\\AppData\\Local\\Temp\\__autograph_generated_filehfxps3sd.py:32\u001B[0m, in \u001B[0;36mouter_factory.<locals>.inner_factory.<locals>.tf__resize_image\u001B[1;34m(image, masks, new_height, new_width, method, align_corners)\u001B[0m\n\u001B[0;32m     30\u001B[0m do_return \u001B[38;5;241m=\u001B[39m \u001B[38;5;28;01mFalse\u001B[39;00m\n\u001B[0;32m     31\u001B[0m retval_ \u001B[38;5;241m=\u001B[39m ag__\u001B[38;5;241m.\u001B[39mUndefinedReturnValue()\n\u001B[1;32m---> 32\u001B[0m \u001B[38;5;28;01mwith\u001B[39;00m ag__\u001B[38;5;241m.\u001B[39mld(tf)\u001B[38;5;241m.\u001B[39mname_scope(\u001B[38;5;124m'\u001B[39m\u001B[38;5;124mResizeImage\u001B[39m\u001B[38;5;124m'\u001B[39m, values\u001B[38;5;241m=\u001B[39m[ag__\u001B[38;5;241m.\u001B[39mld(image), ag__\u001B[38;5;241m.\u001B[39mld(new_height), ag__\u001B[38;5;241m.\u001B[39mld(new_width), ag__\u001B[38;5;241m.\u001B[39mld(method), ag__\u001B[38;5;241m.\u001B[39mld(align_corners)]):\n\u001B[0;32m     33\u001B[0m     new_image \u001B[38;5;241m=\u001B[39m ag__\u001B[38;5;241m.\u001B[39mconverted_call(ag__\u001B[38;5;241m.\u001B[39mld(tf)\u001B[38;5;241m.\u001B[39mimage\u001B[38;5;241m.\u001B[39mresize_images, (ag__\u001B[38;5;241m.\u001B[39mld(image), ag__\u001B[38;5;241m.\u001B[39mconverted_call(ag__\u001B[38;5;241m.\u001B[39mld(tf)\u001B[38;5;241m.\u001B[39mstack, ([ag__\u001B[38;5;241m.\u001B[39mld(new_height), ag__\u001B[38;5;241m.\u001B[39mld(new_width)],), \u001B[38;5;28;01mNone\u001B[39;00m, fscope)), \u001B[38;5;28mdict\u001B[39m(method\u001B[38;5;241m=\u001B[39mag__\u001B[38;5;241m.\u001B[39mld(method), align_corners\u001B[38;5;241m=\u001B[39mag__\u001B[38;5;241m.\u001B[39mld(align_corners)), fscope)\n\u001B[0;32m     34\u001B[0m     image_shape \u001B[38;5;241m=\u001B[39m ag__\u001B[38;5;241m.\u001B[39mconverted_call(ag__\u001B[38;5;241m.\u001B[39mld(shape_utils)\u001B[38;5;241m.\u001B[39mcombined_static_and_dynamic_shape, (ag__\u001B[38;5;241m.\u001B[39mld(image),), \u001B[38;5;28;01mNone\u001B[39;00m, fscope)\n",
      "\u001B[1;31mTypeError\u001B[0m: in user code:\n\n    File \"C:\\Users\\Eddie\\AppData\\Local\\Temp\\ipykernel_5840\\2462016382.py\", line 11, in detect_fn  *\n        image, shapes = detection_model.preprocess(image)\n    File \"C:\\Users\\Eddie\\Python Machine Learning\\Tensorflow Object Detection\\TFODCourse\\tfod\\lib\\site-packages\\object_detection\\meta_architectures\\ssd_meta_arch.py\", line 472, in preprocess  *\n        outputs = shape_utils.static_or_dynamic_map_fn(\n    File \"C:\\Users\\Eddie\\Python Machine Learning\\Tensorflow Object Detection\\TFODCourse\\tfod\\lib\\site-packages\\object_detection\\utils\\shape_utils.py\", line 237, in static_or_dynamic_map_fn  *\n        outputs = [fn(arg) for arg in tf.unstack(elems)]\n    File \"C:\\Users\\Eddie\\Python Machine Learning\\Tensorflow Object Detection\\TFODCourse\\tfod\\lib\\site-packages\\object_detection\\core\\preprocessor.py\", line 2418, in resize_image  *\n        with tf.name_scope(\n\n    TypeError: __init__() got an unexpected keyword argument 'values'\n"
     ]
    }
   ],
   "source": [
    "img = cv2.imread(IMAGE_PATH)\n",
    "image_np = np.array(img)\n",
    "\n",
    "input_tensor = tf.convert_to_tensor(np.expand_dims(image_np, 0), dtype=tf.float32)\n",
    "detections = detect_fn(input_tensor)\n",
    "\n",
    "num_detections = int(detections.pop('num_detections'))\n",
    "detections = {key: value[0, :num_detections].numpy()\n",
    "              for key, value in detections.items()}\n",
    "detections['num_detections'] = num_detections\n",
    "# detection_classes should be ints.\n",
    "detections['detection_classes'] = detections['detection_classes'].astype(np.int64)\n",
    "\n",
    "label_id_offset = 1\n",
    "image_np_with_detections = image_np.copy()\n",
    "\n",
    "viz_utils.visualize_boxes_and_labels_on_image_array(\n",
    "            image_np_with_detections,\n",
    "            detections['detection_boxes'],\n",
    "            detections['detection_classes']+label_id_offset,\n",
    "            detections['detection_scores'],\n",
    "            category_index,\n",
    "            use_normalized_coordinates=True,\n",
    "            max_boxes_to_draw=5,\n",
    "            min_score_thresh=.8,\n",
    "            agnostic_mode=False)\n",
    "\n",
    "scores = detections['detection_scores']\n",
    "good_scores = []\n",
    "for score in scores:\n",
    "  if score*100>=80:\n",
    "      good_scores.append(score)\n",
    "\n",
    "print(len(good_scores))\n",
    "plt.imshow(cv2.cvtColor(image_np_with_detections, cv2.COLOR_BGR2RGB))\n",
    "plt.show()"
   ]
  },
  {
   "cell_type": "markdown",
   "metadata": {
    "id": "IsNAaYAo0WVL",
    "pycharm": {
     "name": "#%% md\n"
    }
   },
   "source": [
    "# 10. Real Time Detections from your Webcam"
   ]
  },
  {
   "cell_type": "markdown",
   "source": [],
   "metadata": {
    "collapsed": false,
    "pycharm": {
     "name": "#%% md\n"
    }
   }
  },
  {
   "cell_type": "code",
   "execution_count": null,
   "metadata": {
    "id": "K7HmOweVRSJA",
    "pycharm": {
     "name": "#%%\n"
    }
   },
   "outputs": [],
   "source": [
    "!pip uninstall opencv-python-headless -y"
   ]
  },
  {
   "cell_type": "code",
   "execution_count": null,
   "metadata": {
    "id": "o_grs6OGpfDJ",
    "pycharm": {
     "name": "#%%\n"
    }
   },
   "outputs": [],
   "source": [
    "cap = cv2.VideoCapture(0)\n",
    "width = int(cap.get(cv2.CAP_PROP_FRAME_WIDTH))\n",
    "height = int(cap.get(cv2.CAP_PROP_FRAME_HEIGHT))\n",
    "\n",
    "while cap.isOpened(): \n",
    "    ret, frame = cap.read()\n",
    "    image_np = np.array(frame)\n",
    "    \n",
    "    input_tensor = tf.convert_to_tensor(np.expand_dims(image_np, 0), dtype=tf.float32)\n",
    "    detections = detect_fn(input_tensor)\n",
    "    \n",
    "    num_detections = int(detections.pop('num_detections'))\n",
    "    detections = {key: value[0, :num_detections].numpy()\n",
    "                  for key, value in detections.items()}\n",
    "    detections['num_detections'] = num_detections\n",
    "\n",
    "    # detection_classes should be ints.\n",
    "    detections['detection_classes'] = detections['detection_classes'].astype(np.int64)\n",
    "\n",
    "    label_id_offset = 1\n",
    "    image_np_with_detections = image_np.copy()\n",
    "\n",
    "    viz_utils.visualize_boxes_and_labels_on_image_array(\n",
    "                image_np_with_detections,\n",
    "                detections['detection_boxes'],\n",
    "                detections['detection_classes']+label_id_offset,\n",
    "                detections['detection_scores'],\n",
    "                category_index,\n",
    "                use_normalized_coordinates=True,\n",
    "                max_boxes_to_draw=5,\n",
    "                min_score_thresh=.8,\n",
    "                agnostic_mode=False)\n",
    "\n",
    "    cv2.imshow('object detection',  cv2.resize(image_np_with_detections, (800, 600)))\n",
    "    \n",
    "    if cv2.waitKey(10) & 0xFF == ord('q'):\n",
    "        cap.release()\n",
    "        cv2.destroyAllWindows()\n",
    "        break"
   ]
  },
  {
   "cell_type": "markdown",
   "metadata": {
    "id": "rzlM4jt0pfDJ",
    "pycharm": {
     "name": "#%% md\n"
    }
   },
   "source": [
    "# 10. Freezing the Graph"
   ]
  },
  {
   "cell_type": "code",
   "execution_count": null,
   "metadata": {
    "executionInfo": {
     "elapsed": 125,
     "status": "ok",
     "timestamp": 1654965229644,
     "user": {
      "displayName": "Eddie Tang",
      "userId": "01077561938887483068"
     },
     "user_tz": 240
    },
    "id": "n4olHB2npfDJ",
    "pycharm": {
     "name": "#%%\n"
    }
   },
   "outputs": [],
   "source": [
    "FREEZE_SCRIPT = os.path.join(paths['APIMODEL_PATH'], 'research', 'object_detection', 'exporter_main_v2.py ')"
   ]
  },
  {
   "cell_type": "code",
   "execution_count": null,
   "metadata": {
    "executionInfo": {
     "elapsed": 138,
     "status": "ok",
     "timestamp": 1654965230504,
     "user": {
      "displayName": "Eddie Tang",
      "userId": "01077561938887483068"
     },
     "user_tz": 240
    },
    "id": "0AjO93QDpfDJ",
    "pycharm": {
     "name": "#%%\n"
    }
   },
   "outputs": [],
   "source": [
    "command = \"python {} --input_type=image_tensor --pipeline_config_path={} --trained_checkpoint_dir={} --output_directory={}\".format(FREEZE_SCRIPT ,files['PIPELINE_CONFIG'], paths['CHECKPOINT_PATH'], paths['OUTPUT_PATH'])"
   ]
  },
  {
   "cell_type": "code",
   "execution_count": null,
   "metadata": {
    "colab": {
     "base_uri": "https://localhost:8080/"
    },
    "executionInfo": {
     "elapsed": 3,
     "status": "ok",
     "timestamp": 1654965231054,
     "user": {
      "displayName": "Eddie Tang",
      "userId": "01077561938887483068"
     },
     "user_tz": 240
    },
    "id": "F6Lsp3tCpfDJ",
    "outputId": "de587d46-52f7-46f4-bf56-8c1378e158a7",
    "pycharm": {
     "name": "#%%\n"
    }
   },
   "outputs": [],
   "source": [
    "print(command)"
   ]
  },
  {
   "cell_type": "code",
   "execution_count": null,
   "metadata": {
    "id": "1Sw1ULgHpfDJ",
    "pycharm": {
     "name": "#%%\n"
    }
   },
   "outputs": [],
   "source": [
    "!{command}"
   ]
  },
  {
   "cell_type": "markdown",
   "metadata": {
    "id": "wTPmdqaXpfDK",
    "pycharm": {
     "name": "#%% md\n"
    }
   },
   "source": [
    "# 11. Conversion to TFJS"
   ]
  },
  {
   "cell_type": "code",
   "execution_count": null,
   "metadata": {
    "id": "gZ6UzY_fpfDK",
    "scrolled": true,
    "pycharm": {
     "name": "#%%\n"
    }
   },
   "outputs": [],
   "source": [
    "!pip install tensorflowjs"
   ]
  },
  {
   "cell_type": "code",
   "execution_count": null,
   "metadata": {
    "executionInfo": {
     "elapsed": 136,
     "status": "ok",
     "timestamp": 1654965253415,
     "user": {
      "displayName": "Eddie Tang",
      "userId": "01077561938887483068"
     },
     "user_tz": 240
    },
    "id": "0oxbVynHpfDK",
    "pycharm": {
     "name": "#%%\n"
    }
   },
   "outputs": [],
   "source": [
    "command = \"tensorflowjs_converter --input_format=tf_saved_model --output_node_names='detection_boxes,detection_classes,detection_features,detection_multiclass_scores,detection_scores,num_detections,raw_detection_boxes,raw_detection_scores' --output_format=tfjs_graph_model --signature_name=serving_default {} {}\".format(os.path.join(paths['OUTPUT_PATH'], 'saved_model'), paths['TFJS_PATH'])"
   ]
  },
  {
   "cell_type": "code",
   "execution_count": null,
   "metadata": {
    "colab": {
     "base_uri": "https://localhost:8080/"
    },
    "executionInfo": {
     "elapsed": 6,
     "status": "ok",
     "timestamp": 1654965260544,
     "user": {
      "displayName": "Eddie Tang",
      "userId": "01077561938887483068"
     },
     "user_tz": 240
    },
    "id": "DB2AGNmJpfDK",
    "outputId": "607db599-457d-4557-934b-ca209d8c9581",
    "pycharm": {
     "name": "#%%\n"
    }
   },
   "outputs": [],
   "source": [
    "print(command)"
   ]
  },
  {
   "cell_type": "code",
   "execution_count": null,
   "metadata": {
    "id": "K7rfT4-hpfDK",
    "pycharm": {
     "name": "#%%\n"
    }
   },
   "outputs": [],
   "source": [
    "!{command}"
   ]
  },
  {
   "cell_type": "code",
   "execution_count": null,
   "metadata": {
    "id": "o8_hm-itpfDK",
    "pycharm": {
     "name": "#%%\n"
    }
   },
   "outputs": [],
   "source": [
    "# Test Code: https://github.com/nicknochnack/RealTimeSignLanguageDetectionwithTFJS"
   ]
  },
  {
   "cell_type": "markdown",
   "metadata": {
    "id": "VtUw73FHpfDK",
    "pycharm": {
     "name": "#%% md\n"
    }
   },
   "source": [
    "# 12. Conversion to TFLite"
   ]
  },
  {
   "cell_type": "code",
   "execution_count": null,
   "metadata": {
    "id": "XviMtewLpfDK",
    "pycharm": {
     "name": "#%%\n"
    }
   },
   "outputs": [],
   "source": [
    "TFLITE_SCRIPT = os.path.join(paths['APIMODEL_PATH'], 'research', 'object_detection', 'export_tflite_graph_tf2.py ')"
   ]
  },
  {
   "cell_type": "code",
   "execution_count": null,
   "metadata": {
    "id": "us86cjC4pfDL",
    "pycharm": {
     "name": "#%%\n"
    }
   },
   "outputs": [],
   "source": [
    "command = \"python {} --pipeline_config_path={} --trained_checkpoint_dir={} --output_directory={}\".format(TFLITE_SCRIPT ,files['PIPELINE_CONFIG'], paths['CHECKPOINT_PATH'], paths['TFLITE_PATH'])"
   ]
  },
  {
   "cell_type": "code",
   "execution_count": null,
   "metadata": {
    "id": "n1r5YO3rpfDL",
    "pycharm": {
     "name": "#%%\n"
    }
   },
   "outputs": [],
   "source": [
    "print(command)"
   ]
  },
  {
   "cell_type": "code",
   "execution_count": null,
   "metadata": {
    "id": "I-xWpHN8pfDL",
    "pycharm": {
     "name": "#%%\n"
    }
   },
   "outputs": [],
   "source": [
    "!{command}"
   ]
  },
  {
   "cell_type": "code",
   "execution_count": null,
   "metadata": {
    "id": "iJfYMbN6pfDL",
    "pycharm": {
     "name": "#%%\n"
    }
   },
   "outputs": [],
   "source": [
    "FROZEN_TFLITE_PATH = os.path.join(paths['TFLITE_PATH'], 'saved_model')\n",
    "TFLITE_MODEL = os.path.join(paths['TFLITE_PATH'], 'saved_model', 'detect.tflite')"
   ]
  },
  {
   "cell_type": "code",
   "execution_count": null,
   "metadata": {
    "id": "AoPTTSA6RSJG",
    "pycharm": {
     "name": "#%%\n"
    }
   },
   "outputs": [],
   "source": [
    "command = \"tflite_convert \\\n",
    "--saved_model_dir={} \\\n",
    "--output_file={} \\\n",
    "--input_shapes=1,300,300,3 \\\n",
    "--input_arrays=normalized_input_image_tensor \\\n",
    "--output_arrays='TFLite_Detection_PostProcess','TFLite_Detection_PostProcess:1','TFLite_Detection_PostProcess:2','TFLite_Detection_PostProcess:3' \\\n",
    "--inference_type=FLOAT \\\n",
    "--allow_custom_ops\".format(FROZEN_TFLITE_PATH, TFLITE_MODEL, )"
   ]
  },
  {
   "cell_type": "code",
   "execution_count": null,
   "metadata": {
    "id": "E8GwUeoFpfDL",
    "pycharm": {
     "name": "#%%\n"
    }
   },
   "outputs": [],
   "source": [
    "print(command)"
   ]
  },
  {
   "cell_type": "code",
   "execution_count": null,
   "metadata": {
    "id": "Nbd7gqHMpfDL",
    "pycharm": {
     "name": "#%%\n"
    }
   },
   "outputs": [],
   "source": [
    "!{command}"
   ]
  },
  {
   "cell_type": "markdown",
   "metadata": {
    "id": "5NQqZRdA21Uc",
    "pycharm": {
     "name": "#%% md\n"
    }
   },
   "source": [
    "# 13. Zip and Export Models "
   ]
  },
  {
   "cell_type": "code",
   "execution_count": null,
   "metadata": {
    "colab": {
     "base_uri": "https://localhost:8080/"
    },
    "executionInfo": {
     "elapsed": 51690,
     "status": "ok",
     "timestamp": 1654965777052,
     "user": {
      "displayName": "Eddie Tang",
      "userId": "01077561938887483068"
     },
     "user_tz": 240
    },
    "id": "tTVTGCQp2ZJJ",
    "outputId": "8a03c389-f489-46d0-864b-3ffc18861095",
    "pycharm": {
     "name": "#%%\n"
    }
   },
   "outputs": [],
   "source": [
    "!tar -czf models.tar.gz {paths['CHECKPOINT_PATH']}\n",
    "!tar -czf entire.tar.gz /content/Tensorflow"
   ]
  },
  {
   "cell_type": "code",
   "execution_count": null,
   "metadata": {
    "colab": {
     "base_uri": "https://localhost:8080/"
    },
    "executionInfo": {
     "elapsed": 16990,
     "status": "ok",
     "timestamp": 1654961789710,
     "user": {
      "displayName": "Eddie Tang",
      "userId": "01077561938887483068"
     },
     "user_tz": 240
    },
    "id": "whShhB0x3PYJ",
    "outputId": "500a6450-3fea-492c-a9bf-ac7c109bf6b1",
    "pycharm": {
     "name": "#%%\n"
    }
   },
   "outputs": [],
   "source": [
    "from google.colab import drive\n",
    "drive.mount('/content/drive')"
   ]
  }
 ],
 "metadata": {
  "accelerator": "GPU",
  "colab": {
   "name": "2. Training and Detection.ipynb",
   "provenance": []
  },
  "kernelspec": {
   "display_name": "tfod",
   "language": "python",
   "name": "tfod"
  },
  "language_info": {
   "codemirror_mode": {
    "name": "ipython",
    "version": 3
   },
   "file_extension": ".py",
   "mimetype": "text/x-python",
   "name": "python",
   "nbconvert_exporter": "python",
   "pygments_lexer": "ipython3",
   "version": "3.9.6"
  }
 },
 "nbformat": 4,
 "nbformat_minor": 1
}